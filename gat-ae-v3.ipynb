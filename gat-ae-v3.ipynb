{
 "cells": [
  {
   "cell_type": "code",
   "execution_count": 1,
   "id": "87af69ea",
   "metadata": {
    "_cell_guid": "b1076dfc-b9ad-4769-8c92-a6c4dae69d19",
    "_uuid": "8f2839f25d086af736a60e9eeb907d3b93b6e0e5",
    "execution": {
     "iopub.execute_input": "2024-08-20T07:38:48.925824Z",
     "iopub.status.busy": "2024-08-20T07:38:48.925169Z",
     "iopub.status.idle": "2024-08-20T07:39:03.479321Z",
     "shell.execute_reply": "2024-08-20T07:39:03.478425Z"
    },
    "papermill": {
     "duration": 14.562937,
     "end_time": "2024-08-20T07:39:03.481743",
     "exception": false,
     "start_time": "2024-08-20T07:38:48.918806",
     "status": "completed"
    },
    "tags": []
   },
   "outputs": [
    {
     "name": "stdout",
     "output_type": "stream",
     "text": [
      "Collecting torch_geometric\r\n",
      "  Downloading torch_geometric-2.5.3-py3-none-any.whl.metadata (64 kB)\r\n",
      "\u001b[2K     \u001b[90m━━━━━━━━━━━━━━━━━━━━━━━━━━━━━━━━━━━━━━━━\u001b[0m \u001b[32m64.2/64.2 kB\u001b[0m \u001b[31m3.4 MB/s\u001b[0m eta \u001b[36m0:00:00\u001b[0m\r\n",
      "\u001b[?25hRequirement already satisfied: tqdm in /opt/conda/lib/python3.10/site-packages (from torch_geometric) (4.66.4)\r\n",
      "Requirement already satisfied: numpy in /opt/conda/lib/python3.10/site-packages (from torch_geometric) (1.26.4)\r\n",
      "Requirement already satisfied: scipy in /opt/conda/lib/python3.10/site-packages (from torch_geometric) (1.11.4)\r\n",
      "Requirement already satisfied: fsspec in /opt/conda/lib/python3.10/site-packages (from torch_geometric) (2024.5.0)\r\n",
      "Requirement already satisfied: jinja2 in /opt/conda/lib/python3.10/site-packages (from torch_geometric) (3.1.2)\r\n",
      "Requirement already satisfied: aiohttp in /opt/conda/lib/python3.10/site-packages (from torch_geometric) (3.9.1)\r\n",
      "Requirement already satisfied: requests in /opt/conda/lib/python3.10/site-packages (from torch_geometric) (2.32.3)\r\n",
      "Requirement already satisfied: pyparsing in /opt/conda/lib/python3.10/site-packages (from torch_geometric) (3.1.1)\r\n",
      "Requirement already satisfied: scikit-learn in /opt/conda/lib/python3.10/site-packages (from torch_geometric) (1.2.2)\r\n",
      "Requirement already satisfied: psutil>=5.8.0 in /opt/conda/lib/python3.10/site-packages (from torch_geometric) (5.9.3)\r\n",
      "Requirement already satisfied: attrs>=17.3.0 in /opt/conda/lib/python3.10/site-packages (from aiohttp->torch_geometric) (23.2.0)\r\n",
      "Requirement already satisfied: multidict<7.0,>=4.5 in /opt/conda/lib/python3.10/site-packages (from aiohttp->torch_geometric) (6.0.4)\r\n",
      "Requirement already satisfied: yarl<2.0,>=1.0 in /opt/conda/lib/python3.10/site-packages (from aiohttp->torch_geometric) (1.9.3)\r\n",
      "Requirement already satisfied: frozenlist>=1.1.1 in /opt/conda/lib/python3.10/site-packages (from aiohttp->torch_geometric) (1.4.1)\r\n",
      "Requirement already satisfied: aiosignal>=1.1.2 in /opt/conda/lib/python3.10/site-packages (from aiohttp->torch_geometric) (1.3.1)\r\n",
      "Requirement already satisfied: async-timeout<5.0,>=4.0 in /opt/conda/lib/python3.10/site-packages (from aiohttp->torch_geometric) (4.0.3)\r\n",
      "Requirement already satisfied: MarkupSafe>=2.0 in /opt/conda/lib/python3.10/site-packages (from jinja2->torch_geometric) (2.1.3)\r\n",
      "Requirement already satisfied: charset-normalizer<4,>=2 in /opt/conda/lib/python3.10/site-packages (from requests->torch_geometric) (3.3.2)\r\n",
      "Requirement already satisfied: idna<4,>=2.5 in /opt/conda/lib/python3.10/site-packages (from requests->torch_geometric) (3.6)\r\n",
      "Requirement already satisfied: urllib3<3,>=1.21.1 in /opt/conda/lib/python3.10/site-packages (from requests->torch_geometric) (1.26.18)\r\n",
      "Requirement already satisfied: certifi>=2017.4.17 in /opt/conda/lib/python3.10/site-packages (from requests->torch_geometric) (2024.7.4)\r\n",
      "Requirement already satisfied: joblib>=1.1.1 in /opt/conda/lib/python3.10/site-packages (from scikit-learn->torch_geometric) (1.4.2)\r\n",
      "Requirement already satisfied: threadpoolctl>=2.0.0 in /opt/conda/lib/python3.10/site-packages (from scikit-learn->torch_geometric) (3.2.0)\r\n",
      "Downloading torch_geometric-2.5.3-py3-none-any.whl (1.1 MB)\r\n",
      "\u001b[2K   \u001b[90m━━━━━━━━━━━━━━━━━━━━━━━━━━━━━━━━━━━━━━━━\u001b[0m \u001b[32m1.1/1.1 MB\u001b[0m \u001b[31m34.5 MB/s\u001b[0m eta \u001b[36m0:00:00\u001b[0m\r\n",
      "\u001b[?25hInstalling collected packages: torch_geometric\r\n",
      "Successfully installed torch_geometric-2.5.3\r\n"
     ]
    }
   ],
   "source": [
    "!pip install torch_geometric"
   ]
  },
  {
   "cell_type": "code",
   "execution_count": 2,
   "id": "0ea6eb42",
   "metadata": {
    "execution": {
     "iopub.execute_input": "2024-08-20T07:39:03.494740Z",
     "iopub.status.busy": "2024-08-20T07:39:03.494161Z",
     "iopub.status.idle": "2024-08-20T07:39:09.529829Z",
     "shell.execute_reply": "2024-08-20T07:39:09.528887Z"
    },
    "papermill": {
     "duration": 6.044641,
     "end_time": "2024-08-20T07:39:09.532276",
     "exception": false,
     "start_time": "2024-08-20T07:39:03.487635",
     "status": "completed"
    },
    "tags": []
   },
   "outputs": [],
   "source": [
    "import torch\n",
    "import torch.nn.functional as F\n",
    "from torch_geometric.nn import GATConv\n",
    "from torch_geometric.data import Data, DataLoader\n",
    "import pickle\n",
    "import numpy as np\n",
    "import matplotlib.pyplot as plt"
   ]
  },
  {
   "cell_type": "code",
   "execution_count": 3,
   "id": "8c8afc50",
   "metadata": {
    "execution": {
     "iopub.execute_input": "2024-08-20T07:39:09.545696Z",
     "iopub.status.busy": "2024-08-20T07:39:09.544740Z",
     "iopub.status.idle": "2024-08-20T07:39:09.560412Z",
     "shell.execute_reply": "2024-08-20T07:39:09.559743Z"
    },
    "papermill": {
     "duration": 0.024105,
     "end_time": "2024-08-20T07:39:09.562213",
     "exception": false,
     "start_time": "2024-08-20T07:39:09.538108",
     "status": "completed"
    },
    "tags": []
   },
   "outputs": [],
   "source": [
    "class GATEncoder(torch.nn.Module):\n",
    "    def __init__(self, in_channels, out_channels):\n",
    "        super(GATEncoder, self).__init__()\n",
    "        self.conv1 = GATConv(in_channels, 128, heads=6, dropout=0.1)\n",
    "        self.conv2 = GATConv(128 * 6, 64, heads=6, concat=False, dropout=0.1)\n",
    "        self.conv3 = GATConv(64, out_channels, heads=6, concat=False, dropout=0.1)\n",
    "        self.norm1 = torch.nn.LayerNorm(128 * 6)\n",
    "        self.norm2 = torch.nn.LayerNorm(64)\n",
    "        self.dropout = torch.nn.Dropout(p=0.1)\n",
    "\n",
    "    def forward(self, data):\n",
    "        x, edge_index = data.x, data.edge_index\n",
    "        x = self.dropout(x)\n",
    "        x = F.selu(self.conv1(x, edge_index))\n",
    "        x = self.norm1(x)\n",
    "        x = self.dropout(x)\n",
    "        x = F.selu(self.conv2(x, edge_index))\n",
    "        x = self.norm2(x)\n",
    "        x = self.dropout(x)\n",
    "        x = self.conv3(x, edge_index)\n",
    "        return x\n",
    "\n",
    "class GATDecoder(torch.nn.Module):\n",
    "    def __init__(self, in_channels, out_channels):\n",
    "        super(GATDecoder, self).__init__()\n",
    "        self.conv1 = GATConv(in_channels, 64, heads=6, dropout=0.1)\n",
    "        self.conv2 = GATConv(64 * 6, 128, heads=6, concat=False, dropout=0.1)\n",
    "        self.conv3 = GATConv(128, out_channels, heads=6, concat=False, dropout=0.1)\n",
    "        self.norm1 = torch.nn.LayerNorm(64 * 6)\n",
    "        self.norm2 = torch.nn.LayerNorm(out_channels)\n",
    "        self.dropout = torch.nn.Dropout(p=0.1)\n",
    "\n",
    "    def forward(self, x, edge_index):\n",
    "        x = self.dropout(x)\n",
    "        x = F.selu(self.conv1(x, edge_index))\n",
    "        x = self.norm1(x)\n",
    "        x = self.dropout(x)\n",
    "        x = F.selu(self.conv2(x, edge_index))\n",
    "        x = self.norm2(x)\n",
    "        x = self.dropout(x)\n",
    "        x = self.conv3(x, edge_index)\n",
    "        return x\n",
    "\n",
    "class GATAutoencoder(torch.nn.Module):\n",
    "    def __init__(self, in_channels, hidden_channels):\n",
    "        super(GATAutoencoder, self).__init__()\n",
    "        self.encoder = GATEncoder(in_channels, hidden_channels)\n",
    "        self.decoder = GATDecoder(hidden_channels, in_channels)\n",
    "\n",
    "    def forward(self, data):\n",
    "        z = self.encoder(data)\n",
    "        x_hat = self.decoder(z, data.edge_index)\n",
    "        return x_hat, z"
   ]
  },
  {
   "cell_type": "code",
   "execution_count": 4,
   "id": "bc5cbf4f",
   "metadata": {
    "execution": {
     "iopub.execute_input": "2024-08-20T07:39:09.574097Z",
     "iopub.status.busy": "2024-08-20T07:39:09.573849Z",
     "iopub.status.idle": "2024-08-20T07:39:10.021983Z",
     "shell.execute_reply": "2024-08-20T07:39:10.021094Z"
    },
    "papermill": {
     "duration": 0.456553,
     "end_time": "2024-08-20T07:39:10.024211",
     "exception": false,
     "start_time": "2024-08-20T07:39:09.567658",
     "status": "completed"
    },
    "tags": []
   },
   "outputs": [
    {
     "data": {
      "text/plain": [
       "Data(x=[3, 1, 128], edge_index=[2, 3])"
      ]
     },
     "execution_count": 4,
     "metadata": {},
     "output_type": "execute_result"
    }
   ],
   "source": [
    "with open(\"/kaggle/input/graph-torch-geometric/graphs.picke\", \"rb\") as f:\n",
    "    gs = pickle.load(f)\n",
    "gs[0]"
   ]
  },
  {
   "cell_type": "code",
   "execution_count": 5,
   "id": "43d7e0d8",
   "metadata": {
    "execution": {
     "iopub.execute_input": "2024-08-20T07:39:10.037148Z",
     "iopub.status.busy": "2024-08-20T07:39:10.036651Z",
     "iopub.status.idle": "2024-08-20T07:39:10.041555Z",
     "shell.execute_reply": "2024-08-20T07:39:10.040730Z"
    },
    "papermill": {
     "duration": 0.013225,
     "end_time": "2024-08-20T07:39:10.043364",
     "exception": false,
     "start_time": "2024-08-20T07:39:10.030139",
     "status": "completed"
    },
    "tags": []
   },
   "outputs": [],
   "source": [
    "# Normalize embeddings to the range [0, 1]\n",
    "def normalize_embeddings(data):\n",
    "    min_val = data.min(dim=0, keepdim=True)[0]\n",
    "    max_val = data.max(dim=0, keepdim=True)[0]\n",
    "    data = (data - min_val) / (1 + max_val - min_val)\n",
    "    return data"
   ]
  },
  {
   "cell_type": "code",
   "execution_count": 6,
   "id": "1e42a56b",
   "metadata": {
    "execution": {
     "iopub.execute_input": "2024-08-20T07:39:10.055817Z",
     "iopub.status.busy": "2024-08-20T07:39:10.055555Z",
     "iopub.status.idle": "2024-08-20T07:39:10.417851Z",
     "shell.execute_reply": "2024-08-20T07:39:10.416892Z"
    },
    "papermill": {
     "duration": 0.371097,
     "end_time": "2024-08-20T07:39:10.420176",
     "exception": false,
     "start_time": "2024-08-20T07:39:10.049079",
     "status": "completed"
    },
    "tags": []
   },
   "outputs": [],
   "source": [
    "def convert_graph_datatype(g):\n",
    "    x = torch.reshape(g.x, (g.x.shape[0], 128))\n",
    "#     x = normalize_embeddings(x)\n",
    "    return Data(x=x.type(torch.float), edge_index=g.edge_index).to(\"cuda\")\n",
    "\n",
    "converted_graph = [convert_graph_datatype(g) for g in gs]"
   ]
  },
  {
   "cell_type": "code",
   "execution_count": 7,
   "id": "2ebf6117",
   "metadata": {
    "execution": {
     "iopub.execute_input": "2024-08-20T07:39:10.433115Z",
     "iopub.status.busy": "2024-08-20T07:39:10.432841Z",
     "iopub.status.idle": "2024-08-20T07:39:10.438209Z",
     "shell.execute_reply": "2024-08-20T07:39:10.437386Z"
    },
    "papermill": {
     "duration": 0.013909,
     "end_time": "2024-08-20T07:39:10.440156",
     "exception": false,
     "start_time": "2024-08-20T07:39:10.426247",
     "status": "completed"
    },
    "tags": []
   },
   "outputs": [
    {
     "name": "stderr",
     "output_type": "stream",
     "text": [
      "/opt/conda/lib/python3.10/site-packages/torch_geometric/deprecation.py:26: UserWarning: 'data.DataLoader' is deprecated, use 'loader.DataLoader' instead\n",
      "  warnings.warn(out)\n"
     ]
    }
   ],
   "source": [
    "# Define DataLoader\n",
    "batch_size = 1\n",
    "num_features = 128\n",
    "loader = DataLoader(converted_graph, batch_size=batch_size, shuffle=True)"
   ]
  },
  {
   "cell_type": "code",
   "execution_count": 8,
   "id": "1166b5c6",
   "metadata": {
    "execution": {
     "iopub.execute_input": "2024-08-20T07:39:10.452972Z",
     "iopub.status.busy": "2024-08-20T07:39:10.452728Z",
     "iopub.status.idle": "2024-08-20T07:39:10.604595Z",
     "shell.execute_reply": "2024-08-20T07:39:10.603835Z"
    },
    "papermill": {
     "duration": 0.160878,
     "end_time": "2024-08-20T07:39:10.606846",
     "exception": false,
     "start_time": "2024-08-20T07:39:10.445968",
     "status": "completed"
    },
    "tags": []
   },
   "outputs": [],
   "source": [
    "# Model instantiation\n",
    "model = GATAutoencoder(num_features, hidden_channels=8).to(\"cuda\")\n",
    "# model = GATAutoencoder()\n",
    "optimizer = torch.optim.Adam(model.parameters(), lr=0.001, weight_decay=5e-4)\n",
    "criterion = torch.nn.MSELoss()"
   ]
  },
  {
   "cell_type": "code",
   "execution_count": 9,
   "id": "41925d8c",
   "metadata": {
    "execution": {
     "iopub.execute_input": "2024-08-20T07:39:10.620554Z",
     "iopub.status.busy": "2024-08-20T07:39:10.619999Z",
     "iopub.status.idle": "2024-08-20T07:39:10.625641Z",
     "shell.execute_reply": "2024-08-20T07:39:10.624841Z"
    },
    "papermill": {
     "duration": 0.014399,
     "end_time": "2024-08-20T07:39:10.627537",
     "exception": false,
     "start_time": "2024-08-20T07:39:10.613138",
     "status": "completed"
    },
    "tags": []
   },
   "outputs": [],
   "source": [
    "# Training loop\n",
    "def train():\n",
    "    model.train()\n",
    "    losses = []\n",
    "    for data in loader:\n",
    "        optimizer.zero_grad()\n",
    "        x_hat, z = model(data)\n",
    "        loss = criterion(x_hat, data.x)  # Reconstruction loss\n",
    "        losses.append(loss.to(\"cpu\").detach().numpy())\n",
    "        loss.backward()\n",
    "        optimizer.step()\n",
    "    return np.mean(losses)"
   ]
  },
  {
   "cell_type": "code",
   "execution_count": 10,
   "id": "5faa5f8e",
   "metadata": {
    "execution": {
     "iopub.execute_input": "2024-08-20T07:39:10.641006Z",
     "iopub.status.busy": "2024-08-20T07:39:10.640562Z",
     "iopub.status.idle": "2024-08-20T07:39:10.646052Z",
     "shell.execute_reply": "2024-08-20T07:39:10.645193Z"
    },
    "papermill": {
     "duration": 0.01429,
     "end_time": "2024-08-20T07:39:10.648030",
     "exception": false,
     "start_time": "2024-08-20T07:39:10.633740",
     "status": "completed"
    },
    "tags": []
   },
   "outputs": [],
   "source": [
    "# Training loop\n",
    "def train():\n",
    "    model.train()\n",
    "    losses = []\n",
    "    for data in loader:\n",
    "        optimizer.zero_grad()\n",
    "        x_hat, z = model(data)\n",
    "        loss = criterion(x_hat, data.x)  # Reconstruction loss\n",
    "        losses.append(loss.to(\"cpu\").detach().numpy())\n",
    "        loss.backward()\n",
    "        optimizer.step()\n",
    "    return np.mean(losses)"
   ]
  },
  {
   "cell_type": "code",
   "execution_count": 11,
   "id": "ffb90e8c",
   "metadata": {
    "execution": {
     "iopub.execute_input": "2024-08-20T07:39:10.661696Z",
     "iopub.status.busy": "2024-08-20T07:39:10.661102Z",
     "iopub.status.idle": "2024-08-20T12:58:50.391341Z",
     "shell.execute_reply": "2024-08-20T12:58:50.390414Z"
    },
    "papermill": {
     "duration": 19179.739799,
     "end_time": "2024-08-20T12:58:50.394000",
     "exception": false,
     "start_time": "2024-08-20T07:39:10.654201",
     "status": "completed"
    },
    "tags": []
   },
   "outputs": [
    {
     "name": "stdout",
     "output_type": "stream",
     "text": [
      "Epoch 1, Training Loss: 182083776.0000\n",
      "Epoch 101, Training Loss: 106496240.0000\n",
      "Epoch 201, Training Loss: 102644736.0000\n",
      "Epoch 301, Training Loss: 91251336.0000\n",
      "Epoch 401, Training Loss: 90616216.0000\n",
      "Epoch 501, Training Loss: 88846672.0000\n",
      "Epoch 601, Training Loss: 87948424.0000\n",
      "Epoch 701, Training Loss: 85955640.0000\n",
      "Epoch 801, Training Loss: 85669480.0000\n",
      "Epoch 901, Training Loss: 84979944.0000\n"
     ]
    }
   ],
   "source": [
    "# Run training\n",
    "losses = []\n",
    "for epoch in range(1000):\n",
    "    loss = train()\n",
    "    losses.append(loss)\n",
    "    if epoch % 100 == 0:\n",
    "        print(f'Epoch {epoch+1}, Training Loss: {loss.item():.4f}')"
   ]
  },
  {
   "cell_type": "code",
   "execution_count": 12,
   "id": "c2ccbd94",
   "metadata": {
    "execution": {
     "iopub.execute_input": "2024-08-20T12:58:50.410479Z",
     "iopub.status.busy": "2024-08-20T12:58:50.410153Z",
     "iopub.status.idle": "2024-08-20T12:58:50.689168Z",
     "shell.execute_reply": "2024-08-20T12:58:50.688281Z"
    },
    "papermill": {
     "duration": 0.289484,
     "end_time": "2024-08-20T12:58:50.691205",
     "exception": false,
     "start_time": "2024-08-20T12:58:50.401721",
     "status": "completed"
    },
    "tags": []
   },
   "outputs": [
    {
     "data": {
      "text/plain": [
       "[<matplotlib.lines.Line2D at 0x7a3defe99870>]"
      ]
     },
     "execution_count": 12,
     "metadata": {},
     "output_type": "execute_result"
    },
    {
     "data": {
      "image/png": "[encoded data removed]",
      "text/plain": [
       "<Figure size 640x480 with 1 Axes>"
      ]
     },
     "metadata": {},
     "output_type": "display_data"
    }
   ],
   "source": [
    "plt.plot(losses)"
   ]
  },
  {
   "cell_type": "code",
   "execution_count": 13,
   "id": "48944ab9",
   "metadata": {
    "execution": {
     "iopub.execute_input": "2024-08-20T12:58:50.708560Z",
     "iopub.status.busy": "2024-08-20T12:58:50.708207Z",
     "iopub.status.idle": "2024-08-20T12:58:50.715124Z",
     "shell.execute_reply": "2024-08-20T12:58:50.714237Z"
    },
    "papermill": {
     "duration": 0.018012,
     "end_time": "2024-08-20T12:58:50.717380",
     "exception": false,
     "start_time": "2024-08-20T12:58:50.699368",
     "status": "completed"
    },
    "tags": []
   },
   "outputs": [
    {
     "data": {
      "text/plain": [
       "124489893.0"
      ]
     },
     "execution_count": 13,
     "metadata": {},
     "output_type": "execute_result"
    }
   ],
   "source": [
    "threshold = np.mean(losses) + 3*np.std(losses)\n",
    "threshold"
   ]
  },
  {
   "cell_type": "code",
   "execution_count": 14,
   "id": "00d2923e",
   "metadata": {
    "execution": {
     "iopub.execute_input": "2024-08-20T12:58:50.735493Z",
     "iopub.status.busy": "2024-08-20T12:58:50.735179Z",
     "iopub.status.idle": "2024-08-20T12:58:50.741256Z",
     "shell.execute_reply": "2024-08-20T12:58:50.740386Z"
    },
    "papermill": {
     "duration": 0.017286,
     "end_time": "2024-08-20T12:58:50.743291",
     "exception": false,
     "start_time": "2024-08-20T12:58:50.726005",
     "status": "completed"
    },
    "tags": []
   },
   "outputs": [],
   "source": [
    "# Inference for anomaly detection\n",
    "def detect_anomalies(data, threshold=0.1):\n",
    "    model.eval()\n",
    "    with torch.no_grad():\n",
    "        for i, data in enumerate(loader):\n",
    "#             print(i)\n",
    "            x_hat, z = model(data)\n",
    "            reconstruction_error = torch.mean((x_hat - data.x) ** 2, dim=1)\n",
    "            anomalies = reconstruction_error > threshold\n",
    "    return anomalies, reconstruction_error, data.x, x_hat"
   ]
  },
  {
   "cell_type": "code",
   "execution_count": 15,
   "id": "c6ac4489",
   "metadata": {
    "execution": {
     "iopub.execute_input": "2024-08-20T12:58:50.760865Z",
     "iopub.status.busy": "2024-08-20T12:58:50.760174Z",
     "iopub.status.idle": "2024-08-20T12:59:00.594745Z",
     "shell.execute_reply": "2024-08-20T12:59:00.593816Z"
    },
    "papermill": {
     "duration": 9.845789,
     "end_time": "2024-08-20T12:59:00.597062",
     "exception": false,
     "start_time": "2024-08-20T12:58:50.751273",
     "status": "completed"
    },
    "tags": []
   },
   "outputs": [
    {
     "name": "stdout",
     "output_type": "stream",
     "text": [
      "Anomalies detected: 4\n"
     ]
    }
   ],
   "source": [
    "# Detect anomalies in the dataset\n",
    "anomalies, reconstruction_error, x, x_hat = detect_anomalies(data = loader, threshold = threshold)\n",
    "print(f\"Anomalies detected: {anomalies.sum().item()}\")"
   ]
  },
  {
   "cell_type": "code",
   "execution_count": 16,
   "id": "c9761130",
   "metadata": {
    "execution": {
     "iopub.execute_input": "2024-08-20T12:59:00.615073Z",
     "iopub.status.busy": "2024-08-20T12:59:00.614506Z",
     "iopub.status.idle": "2024-08-20T12:59:00.706008Z",
     "shell.execute_reply": "2024-08-20T12:59:00.705006Z"
    },
    "papermill": {
     "duration": 0.102383,
     "end_time": "2024-08-20T12:59:00.708249",
     "exception": false,
     "start_time": "2024-08-20T12:59:00.605866",
     "status": "completed"
    },
    "tags": []
   },
   "outputs": [
    {
     "data": {
      "text/plain": [
       "tensor([2.2804e+06, 5.8531e+07, 8.5198e+07, 3.6850e+07, 1.3321e+08, 8.7134e+07,\n",
       "        1.5392e+08, 8.6154e+07, 1.1762e+08, 8.9720e+07, 1.3264e+08, 8.7120e+07,\n",
       "        9.6263e+07, 2.1739e+08, 1.2088e+08, 5.7797e+07, 7.5629e+07, 5.8834e+07,\n",
       "        7.8142e+07, 7.3675e+07], device='cuda:0')"
      ]
     },
     "execution_count": 16,
     "metadata": {},
     "output_type": "execute_result"
    }
   ],
   "source": [
    "reconstruction_error"
   ]
  },
  {
   "cell_type": "code",
   "execution_count": 17,
   "id": "4b843743",
   "metadata": {
    "execution": {
     "iopub.execute_input": "2024-08-20T12:59:00.726012Z",
     "iopub.status.busy": "2024-08-20T12:59:00.725716Z",
     "iopub.status.idle": "2024-08-20T12:59:00.735687Z",
     "shell.execute_reply": "2024-08-20T12:59:00.734825Z"
    },
    "papermill": {
     "duration": 0.020965,
     "end_time": "2024-08-20T12:59:00.737596",
     "exception": false,
     "start_time": "2024-08-20T12:59:00.716631",
     "status": "completed"
    },
    "tags": []
   },
   "outputs": [
    {
     "data": {
      "text/plain": [
       "tensor([[5.2300e+02, 2.8766e+04, 6.5740e+03,  ..., 0.0000e+00, 0.0000e+00,\n",
       "         0.0000e+00],\n",
       "        [5.2300e+02, 2.8766e+04, 4.8900e+02,  ..., 0.0000e+00, 0.0000e+00,\n",
       "         0.0000e+00],\n",
       "        [5.2300e+02, 2.8766e+04, 1.8380e+03,  ..., 2.8723e+04, 2.0000e+00,\n",
       "         0.0000e+00],\n",
       "        ...,\n",
       "        [5.2300e+02, 2.8766e+04, 4.8900e+02,  ..., 0.0000e+00, 0.0000e+00,\n",
       "         0.0000e+00],\n",
       "        [5.2300e+02, 2.8766e+04, 1.8380e+03,  ..., 0.0000e+00, 0.0000e+00,\n",
       "         0.0000e+00],\n",
       "        [5.2300e+02, 2.8766e+04, 4.8900e+02,  ..., 0.0000e+00, 0.0000e+00,\n",
       "         0.0000e+00]], device='cuda:0')"
      ]
     },
     "execution_count": 17,
     "metadata": {},
     "output_type": "execute_result"
    }
   ],
   "source": [
    "x"
   ]
  },
  {
   "cell_type": "code",
   "execution_count": 18,
   "id": "43e1b1b0",
   "metadata": {
    "execution": {
     "iopub.execute_input": "2024-08-20T12:59:00.755910Z",
     "iopub.status.busy": "2024-08-20T12:59:00.755601Z",
     "iopub.status.idle": "2024-08-20T12:59:00.763811Z",
     "shell.execute_reply": "2024-08-20T12:59:00.762927Z"
    },
    "papermill": {
     "duration": 0.019602,
     "end_time": "2024-08-20T12:59:00.765783",
     "exception": false,
     "start_time": "2024-08-20T12:59:00.746181",
     "status": "completed"
    },
    "tags": []
   },
   "outputs": [
    {
     "data": {
      "text/plain": [
       "tensor([[ 5.0835e+02,  2.6682e+04,  5.8419e+03,  ...,  1.1989e+01,\n",
       "         -6.5848e+01, -6.3927e+01],\n",
       "        [ 4.8666e+02,  2.7412e+04,  7.6864e+02,  ...,  7.9621e+02,\n",
       "          1.0613e+03,  8.9802e+02],\n",
       "        [ 5.2818e+02,  2.9930e+04,  1.4363e+03,  ...,  2.0061e+04,\n",
       "          1.4700e+04,  1.0990e+04],\n",
       "        ...,\n",
       "        [ 5.1767e+02,  2.8086e+04,  1.0232e+03,  ..., -7.5893e+01,\n",
       "         -8.7802e+01, -7.9976e+01],\n",
       "        [ 5.1518e+02,  2.8175e+04,  1.3782e+03,  ..., -1.7435e+02,\n",
       "         -2.4469e+02, -1.8040e+02],\n",
       "        [ 4.8746e+02,  2.6709e+04,  2.0933e+03,  ...,  4.9366e+02,\n",
       "          3.2291e+02,  3.9471e+02]], device='cuda:0')"
      ]
     },
     "execution_count": 18,
     "metadata": {},
     "output_type": "execute_result"
    }
   ],
   "source": [
    "x_hat"
   ]
  },
  {
   "cell_type": "code",
   "execution_count": 19,
   "id": "596fb048",
   "metadata": {
    "execution": {
     "iopub.execute_input": "2024-08-20T12:59:00.784733Z",
     "iopub.status.busy": "2024-08-20T12:59:00.784136Z",
     "iopub.status.idle": "2024-08-20T12:59:00.803996Z",
     "shell.execute_reply": "2024-08-20T12:59:00.803103Z"
    },
    "papermill": {
     "duration": 0.031509,
     "end_time": "2024-08-20T12:59:00.805900",
     "exception": false,
     "start_time": "2024-08-20T12:59:00.774391",
     "status": "completed"
    },
    "tags": []
   },
   "outputs": [],
   "source": [
    "torch.save(model, \"ae_gat_model_selu.pth\")"
   ]
  },
  {
   "cell_type": "code",
   "execution_count": 20,
   "id": "e084f8b4",
   "metadata": {
    "execution": {
     "iopub.execute_input": "2024-08-20T12:59:00.825110Z",
     "iopub.status.busy": "2024-08-20T12:59:00.824303Z",
     "iopub.status.idle": "2024-08-20T12:59:00.840348Z",
     "shell.execute_reply": "2024-08-20T12:59:00.839472Z"
    },
    "papermill": {
     "duration": 0.027623,
     "end_time": "2024-08-20T12:59:00.842357",
     "exception": false,
     "start_time": "2024-08-20T12:59:00.814734",
     "status": "completed"
    },
    "tags": []
   },
   "outputs": [
    {
     "data": {
      "text/plain": [
       "GATAutoencoder(\n",
       "  (encoder): GATEncoder(\n",
       "    (conv1): GATConv(128, 128, heads=6)\n",
       "    (conv2): GATConv(768, 64, heads=6)\n",
       "    (conv3): GATConv(64, 8, heads=6)\n",
       "    (norm1): LayerNorm((768,), eps=1e-05, elementwise_affine=True)\n",
       "    (norm2): LayerNorm((64,), eps=1e-05, elementwise_affine=True)\n",
       "    (dropout): Dropout(p=0.1, inplace=False)\n",
       "  )\n",
       "  (decoder): GATDecoder(\n",
       "    (conv1): GATConv(8, 64, heads=6)\n",
       "    (conv2): GATConv(384, 128, heads=6)\n",
       "    (conv3): GATConv(128, 128, heads=6)\n",
       "    (norm1): LayerNorm((384,), eps=1e-05, elementwise_affine=True)\n",
       "    (norm2): LayerNorm((128,), eps=1e-05, elementwise_affine=True)\n",
       "    (dropout): Dropout(p=0.1, inplace=False)\n",
       "  )\n",
       ")"
      ]
     },
     "execution_count": 20,
     "metadata": {},
     "output_type": "execute_result"
    }
   ],
   "source": [
    "ccc = torch.load(\"ae_gat_model_selu.pth\")\n",
    "ccc.eval()"
   ]
  }
 ],
 "metadata": {
  "kaggle": {
   "accelerator": "gpu",
   "dataSources": [
    {
     "datasetId": 5560950,
     "sourceId": 9198106,
     "sourceType": "datasetVersion"
    }
   ],
   "isGpuEnabled": true,
   "isInternetEnabled": true,
   "language": "python",
   "sourceType": "notebook"
  },
  "kernelspec": {
   "display_name": "Python 3",
   "language": "python",
   "name": "python3"
  },
  "language_info": {
   "codemirror_mode": {
    "name": "ipython",
    "version": 3
   },
   "file_extension": ".py",
   "mimetype": "text/x-python",
   "name": "python",
   "nbconvert_exporter": "python",
   "pygments_lexer": "ipython3",
   "version": "3.10.13"
  },
  "papermill": {
   "default_parameters": {},
   "duration": 19216.861684,
   "end_time": "2024-08-20T12:59:03.048310",
   "environment_variables": {},
   "exception": null,
   "input_path": "__notebook__.ipynb",
   "output_path": "__notebook__.ipynb",
   "parameters": {},
   "start_time": "2024-08-20T07:38:46.186626",
   "version": "2.5.0"
  }
 },
 "nbformat": 4,
 "nbformat_minor": 5
}
