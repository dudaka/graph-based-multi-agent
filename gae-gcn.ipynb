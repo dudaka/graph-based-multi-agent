{
 "cells": [
  {
   "cell_type": "code",
   "execution_count": 1,
   "id": "fe8ee4cd",
   "metadata": {
    "_cell_guid": "b1076dfc-b9ad-4769-8c92-a6c4dae69d19",
    "_uuid": "8f2839f25d086af736a60e9eeb907d3b93b6e0e5",
    "execution": {
     "iopub.execute_input": "2024-09-09T15:21:00.511471Z",
     "iopub.status.busy": "2024-09-09T15:21:00.511164Z",
     "iopub.status.idle": "2024-09-09T15:21:15.704420Z",
     "shell.execute_reply": "2024-09-09T15:21:15.703478Z"
    },
    "papermill": {
     "duration": 15.201984,
     "end_time": "2024-09-09T15:21:15.706832",
     "exception": false,
     "start_time": "2024-09-09T15:21:00.504848",
     "status": "completed"
    },
    "tags": []
   },
   "outputs": [
    {
     "name": "stdout",
     "output_type": "stream",
     "text": [
      "Collecting torch_geometric\r\n",
      "  Downloading torch_geometric-2.5.3-py3-none-any.whl.metadata (64 kB)\r\n",
      "\u001b[2K     \u001b[90m━━━━━━━━━━━━━━━━━━━━━━━━━━━━━━━━━━━━━━━━\u001b[0m \u001b[32m64.2/64.2 kB\u001b[0m \u001b[31m3.6 MB/s\u001b[0m eta \u001b[36m0:00:00\u001b[0m\r\n",
      "\u001b[?25hRequirement already satisfied: tqdm in /opt/conda/lib/python3.10/site-packages (from torch_geometric) (4.66.4)\r\n",
      "Requirement already satisfied: numpy in /opt/conda/lib/python3.10/site-packages (from torch_geometric) (1.26.4)\r\n",
      "Requirement already satisfied: scipy in /opt/conda/lib/python3.10/site-packages (from torch_geometric) (1.14.0)\r\n",
      "Requirement already satisfied: fsspec in /opt/conda/lib/python3.10/site-packages (from torch_geometric) (2024.6.1)\r\n",
      "Requirement already satisfied: jinja2 in /opt/conda/lib/python3.10/site-packages (from torch_geometric) (3.1.4)\r\n",
      "Requirement already satisfied: aiohttp in /opt/conda/lib/python3.10/site-packages (from torch_geometric) (3.9.5)\r\n",
      "Requirement already satisfied: requests in /opt/conda/lib/python3.10/site-packages (from torch_geometric) (2.32.3)\r\n",
      "Requirement already satisfied: pyparsing in /opt/conda/lib/python3.10/site-packages (from torch_geometric) (3.1.2)\r\n",
      "Requirement already satisfied: scikit-learn in /opt/conda/lib/python3.10/site-packages (from torch_geometric) (1.2.2)\r\n",
      "Requirement already satisfied: psutil>=5.8.0 in /opt/conda/lib/python3.10/site-packages (from torch_geometric) (5.9.3)\r\n",
      "Requirement already satisfied: aiosignal>=1.1.2 in /opt/conda/lib/python3.10/site-packages (from aiohttp->torch_geometric) (1.3.1)\r\n",
      "Requirement already satisfied: attrs>=17.3.0 in /opt/conda/lib/python3.10/site-packages (from aiohttp->torch_geometric) (23.2.0)\r\n",
      "Requirement already satisfied: frozenlist>=1.1.1 in /opt/conda/lib/python3.10/site-packages (from aiohttp->torch_geometric) (1.4.1)\r\n",
      "Requirement already satisfied: multidict<7.0,>=4.5 in /opt/conda/lib/python3.10/site-packages (from aiohttp->torch_geometric) (6.0.5)\r\n",
      "Requirement already satisfied: yarl<2.0,>=1.0 in /opt/conda/lib/python3.10/site-packages (from aiohttp->torch_geometric) (1.9.4)\r\n",
      "Requirement already satisfied: async-timeout<5.0,>=4.0 in /opt/conda/lib/python3.10/site-packages (from aiohttp->torch_geometric) (4.0.3)\r\n",
      "Requirement already satisfied: MarkupSafe>=2.0 in /opt/conda/lib/python3.10/site-packages (from jinja2->torch_geometric) (2.1.5)\r\n",
      "Requirement already satisfied: charset-normalizer<4,>=2 in /opt/conda/lib/python3.10/site-packages (from requests->torch_geometric) (3.3.2)\r\n",
      "Requirement already satisfied: idna<4,>=2.5 in /opt/conda/lib/python3.10/site-packages (from requests->torch_geometric) (3.7)\r\n",
      "Requirement already satisfied: urllib3<3,>=1.21.1 in /opt/conda/lib/python3.10/site-packages (from requests->torch_geometric) (1.26.18)\r\n",
      "Requirement already satisfied: certifi>=2017.4.17 in /opt/conda/lib/python3.10/site-packages (from requests->torch_geometric) (2024.7.4)\r\n",
      "Requirement already satisfied: joblib>=1.1.1 in /opt/conda/lib/python3.10/site-packages (from scikit-learn->torch_geometric) (1.4.2)\r\n",
      "Requirement already satisfied: threadpoolctl>=2.0.0 in /opt/conda/lib/python3.10/site-packages (from scikit-learn->torch_geometric) (3.5.0)\r\n",
      "Downloading torch_geometric-2.5.3-py3-none-any.whl (1.1 MB)\r\n",
      "\u001b[2K   \u001b[90m━━━━━━━━━━━━━━━━━━━━━━━━━━━━━━━━━━━━━━━━\u001b[0m \u001b[32m1.1/1.1 MB\u001b[0m \u001b[31m26.0 MB/s\u001b[0m eta \u001b[36m0:00:00\u001b[0m\r\n",
      "\u001b[?25hInstalling collected packages: torch_geometric\r\n",
      "Successfully installed torch_geometric-2.5.3\r\n"
     ]
    }
   ],
   "source": [
    "!pip install torch_geometric"
   ]
  },
  {
   "cell_type": "code",
   "execution_count": 2,
   "id": "4f6d5959",
   "metadata": {
    "execution": {
     "iopub.execute_input": "2024-09-09T15:21:15.720019Z",
     "iopub.status.busy": "2024-09-09T15:21:15.719680Z",
     "iopub.status.idle": "2024-09-09T15:21:21.504678Z",
     "shell.execute_reply": "2024-09-09T15:21:21.503875Z"
    },
    "papermill": {
     "duration": 5.793925,
     "end_time": "2024-09-09T15:21:21.506983",
     "exception": false,
     "start_time": "2024-09-09T15:21:15.713058",
     "status": "completed"
    },
    "tags": []
   },
   "outputs": [],
   "source": [
    "import torch\n",
    "import torch.nn.functional as F\n",
    "from torch_geometric.nn import GATConv, GCNConv\n",
    "from torch_geometric.data import Data, DataLoader\n",
    "import pickle\n",
    "import numpy as np\n",
    "import matplotlib.pyplot as plt"
   ]
  },
  {
   "cell_type": "code",
   "execution_count": 3,
   "id": "722bb321",
   "metadata": {
    "execution": {
     "iopub.execute_input": "2024-09-09T15:21:21.520175Z",
     "iopub.status.busy": "2024-09-09T15:21:21.519220Z",
     "iopub.status.idle": "2024-09-09T15:21:21.533275Z",
     "shell.execute_reply": "2024-09-09T15:21:21.532451Z"
    },
    "papermill": {
     "duration": 0.022392,
     "end_time": "2024-09-09T15:21:21.535115",
     "exception": false,
     "start_time": "2024-09-09T15:21:21.512723",
     "status": "completed"
    },
    "tags": []
   },
   "outputs": [],
   "source": [
    "class GATEncoder(torch.nn.Module):\n",
    "    def __init__(self, in_channels, out_channels):\n",
    "        super(GATEncoder, self).__init__()\n",
    "        self.conv1 = GCNConv(in_channels, 128)\n",
    "        self.conv2 = GCNConv(128, 64)\n",
    "        self.conv3 = GCNConv(64, out_channels)\n",
    "        self.norm1 = torch.nn.LayerNorm(128)\n",
    "        self.norm2 = torch.nn.LayerNorm(64)\n",
    "        self.dropout = torch.nn.Dropout(p=0.1)\n",
    "\n",
    "    def forward(self, data):\n",
    "        x, edge_index = data.x, data.edge_index\n",
    "        x = self.dropout(x)\n",
    "        x = F.selu(self.conv1(x, edge_index))\n",
    "        x = self.norm1(x)\n",
    "        x = self.dropout(x)\n",
    "        x = F.selu(self.conv2(x, edge_index))\n",
    "        x = self.norm2(x)\n",
    "        x = self.dropout(x)\n",
    "        x = self.conv3(x, edge_index)\n",
    "        return x\n",
    "\n",
    "class GATDecoder(torch.nn.Module):\n",
    "    def __init__(self, in_channels, out_channels):\n",
    "        super(GATDecoder, self).__init__()\n",
    "        self.conv1 = GCNConv(in_channels, 64)\n",
    "        self.conv2 = GCNConv(64, 128)\n",
    "        self.conv3 = GCNConv(128, out_channels)\n",
    "        self.norm1 = torch.nn.LayerNorm(64)\n",
    "        self.norm2 = torch.nn.LayerNorm(out_channels)\n",
    "        self.dropout = torch.nn.Dropout(p=0.1)\n",
    "\n",
    "    def forward(self, x, edge_index):\n",
    "        x = self.dropout(x)\n",
    "        x = F.selu(self.conv1(x, edge_index))\n",
    "        x = self.norm1(x)\n",
    "        x = self.dropout(x)\n",
    "        x = F.selu(self.conv2(x, edge_index))\n",
    "        x = self.norm2(x)\n",
    "        x = self.dropout(x)\n",
    "        x = self.conv3(x, edge_index)\n",
    "        return x\n",
    "\n",
    "class GATAutoencoder(torch.nn.Module):\n",
    "    def __init__(self, in_channels, hidden_channels):\n",
    "        super(GATAutoencoder, self).__init__()\n",
    "        self.encoder = GATEncoder(in_channels, hidden_channels)\n",
    "        self.decoder = GATDecoder(hidden_channels, in_channels)\n",
    "\n",
    "    def forward(self, data):\n",
    "        z = self.encoder(data)\n",
    "        x_hat = self.decoder(z, data.edge_index)\n",
    "        return x_hat, z\n"
   ]
  },
  {
   "cell_type": "code",
   "execution_count": 4,
   "id": "2bf293a4",
   "metadata": {
    "execution": {
     "iopub.execute_input": "2024-09-09T15:21:21.547042Z",
     "iopub.status.busy": "2024-09-09T15:21:21.546728Z",
     "iopub.status.idle": "2024-09-09T15:21:21.999816Z",
     "shell.execute_reply": "2024-09-09T15:21:21.998988Z"
    },
    "papermill": {
     "duration": 0.46184,
     "end_time": "2024-09-09T15:21:22.002258",
     "exception": false,
     "start_time": "2024-09-09T15:21:21.540418",
     "status": "completed"
    },
    "tags": []
   },
   "outputs": [
    {
     "name": "stderr",
     "output_type": "stream",
     "text": [
      "/opt/conda/lib/python3.10/site-packages/torch/storage.py:414: FutureWarning: You are using `torch.load` with `weights_only=False` (the current default value), which uses the default pickle module implicitly. It is possible to construct malicious pickle data which will execute arbitrary code during unpickling (See https://github.com/pytorch/pytorch/blob/main/SECURITY.md#untrusted-models for more details). In a future release, the default value for `weights_only` will be flipped to `True`. This limits the functions that could be executed during unpickling. Arbitrary objects will no longer be allowed to be loaded via this mode unless they are explicitly allowlisted by the user via `torch.serialization.add_safe_globals`. We recommend you start setting `weights_only=True` for any use case where you don't have full control of the loaded file. Please open an issue on GitHub for any issues related to this experimental feature.\n",
      "  return torch.load(io.BytesIO(b))\n"
     ]
    }
   ],
   "source": [
    "with open(\"/kaggle/input/graph-torch-geometric/graphs.picke\", \"rb\") as f:\n",
    "    gs = pickle.load(f)"
   ]
  },
  {
   "cell_type": "code",
   "execution_count": 5,
   "id": "e81dfb5f",
   "metadata": {
    "execution": {
     "iopub.execute_input": "2024-09-09T15:21:22.014872Z",
     "iopub.status.busy": "2024-09-09T15:21:22.014559Z",
     "iopub.status.idle": "2024-09-09T15:21:22.019510Z",
     "shell.execute_reply": "2024-09-09T15:21:22.018734Z"
    },
    "papermill": {
     "duration": 0.013349,
     "end_time": "2024-09-09T15:21:22.021418",
     "exception": false,
     "start_time": "2024-09-09T15:21:22.008069",
     "status": "completed"
    },
    "tags": []
   },
   "outputs": [],
   "source": [
    "# Normalize embeddings to the range [0, 1]\n",
    "def normalize_embeddings(data):\n",
    "    min_val = data.min(dim=0, keepdim=True)[0]\n",
    "    max_val = data.max(dim=0, keepdim=True)[0]\n",
    "    data = (data - min_val) / (1 + max_val - min_val)\n",
    "    return data"
   ]
  },
  {
   "cell_type": "code",
   "execution_count": 6,
   "id": "4e1aa4a8",
   "metadata": {
    "execution": {
     "iopub.execute_input": "2024-09-09T15:21:22.033643Z",
     "iopub.status.busy": "2024-09-09T15:21:22.033377Z",
     "iopub.status.idle": "2024-09-09T15:21:22.391651Z",
     "shell.execute_reply": "2024-09-09T15:21:22.390845Z"
    },
    "papermill": {
     "duration": 0.367351,
     "end_time": "2024-09-09T15:21:22.394227",
     "exception": false,
     "start_time": "2024-09-09T15:21:22.026876",
     "status": "completed"
    },
    "tags": []
   },
   "outputs": [],
   "source": [
    "def convert_graph_datatype(g):\n",
    "    x = torch.reshape(g.x, (g.x.shape[0], 128))\n",
    "#     x = normalize_embeddings(x)\n",
    "    return Data(x=x.type(torch.float), edge_index=g.edge_index).to(\"cuda\")\n",
    "\n",
    "converted_graph = [convert_graph_datatype(g) for g in gs]"
   ]
  },
  {
   "cell_type": "code",
   "execution_count": 7,
   "id": "cea910a4",
   "metadata": {
    "execution": {
     "iopub.execute_input": "2024-09-09T15:21:22.406677Z",
     "iopub.status.busy": "2024-09-09T15:21:22.406370Z",
     "iopub.status.idle": "2024-09-09T15:21:22.412361Z",
     "shell.execute_reply": "2024-09-09T15:21:22.411192Z"
    },
    "papermill": {
     "duration": 0.014294,
     "end_time": "2024-09-09T15:21:22.414248",
     "exception": false,
     "start_time": "2024-09-09T15:21:22.399954",
     "status": "completed"
    },
    "tags": []
   },
   "outputs": [
    {
     "name": "stderr",
     "output_type": "stream",
     "text": [
      "/opt/conda/lib/python3.10/site-packages/torch_geometric/deprecation.py:26: UserWarning: 'data.DataLoader' is deprecated, use 'loader.DataLoader' instead\n",
      "  warnings.warn(out)\n"
     ]
    }
   ],
   "source": [
    "# Define DataLoader\n",
    "batch_size = 1\n",
    "num_features = 128\n",
    "loader = DataLoader(converted_graph, batch_size=batch_size, shuffle=True)"
   ]
  },
  {
   "cell_type": "code",
   "execution_count": 8,
   "id": "9ba2029b",
   "metadata": {
    "execution": {
     "iopub.execute_input": "2024-09-09T15:21:22.426451Z",
     "iopub.status.busy": "2024-09-09T15:21:22.426165Z",
     "iopub.status.idle": "2024-09-09T15:21:22.512676Z",
     "shell.execute_reply": "2024-09-09T15:21:22.511976Z"
    },
    "papermill": {
     "duration": 0.095025,
     "end_time": "2024-09-09T15:21:22.514730",
     "exception": false,
     "start_time": "2024-09-09T15:21:22.419705",
     "status": "completed"
    },
    "tags": []
   },
   "outputs": [],
   "source": [
    "# Model instantiation\n",
    "model = GATAutoencoder(num_features, hidden_channels=8).to(\"cuda\")\n",
    "# model = GATAutoencoder()\n",
    "optimizer = torch.optim.Adam(model.parameters(), lr=0.001, weight_decay=5e-4)\n",
    "criterion = torch.nn.MSELoss()"
   ]
  },
  {
   "cell_type": "code",
   "execution_count": 9,
   "id": "2ab35cb0",
   "metadata": {
    "execution": {
     "iopub.execute_input": "2024-09-09T15:21:22.526851Z",
     "iopub.status.busy": "2024-09-09T15:21:22.526581Z",
     "iopub.status.idle": "2024-09-09T15:21:22.532086Z",
     "shell.execute_reply": "2024-09-09T15:21:22.531236Z"
    },
    "papermill": {
     "duration": 0.013775,
     "end_time": "2024-09-09T15:21:22.534007",
     "exception": false,
     "start_time": "2024-09-09T15:21:22.520232",
     "status": "completed"
    },
    "tags": []
   },
   "outputs": [],
   "source": [
    "# Training loop\n",
    "def train():\n",
    "    model.train()\n",
    "    losses = []\n",
    "    for data in loader:\n",
    "        optimizer.zero_grad()\n",
    "        x_hat, z = model(data)\n",
    "        loss = criterion(x_hat, data.x)  # Reconstruction loss\n",
    "        losses.append(loss.to(\"cpu\").detach().numpy())\n",
    "        loss.backward()\n",
    "        optimizer.step()\n",
    "    return np.mean(losses)"
   ]
  },
  {
   "cell_type": "code",
   "execution_count": 10,
   "id": "1fee7b55",
   "metadata": {
    "execution": {
     "iopub.execute_input": "2024-09-09T15:21:22.546138Z",
     "iopub.status.busy": "2024-09-09T15:21:22.545851Z",
     "iopub.status.idle": "2024-09-09T18:44:09.562005Z",
     "shell.execute_reply": "2024-09-09T18:44:09.560946Z"
    },
    "papermill": {
     "duration": 12167.02513,
     "end_time": "2024-09-09T18:44:09.564579",
     "exception": false,
     "start_time": "2024-09-09T15:21:22.539449",
     "status": "completed"
    },
    "tags": []
   },
   "outputs": [
    {
     "name": "stdout",
     "output_type": "stream",
     "text": [
      "Epoch 1, Training Loss: 178205024.0000\n",
      "Epoch 101, Training Loss: 84962504.0000\n",
      "Epoch 201, Training Loss: 81924896.0000\n",
      "Epoch 301, Training Loss: 80664840.0000\n",
      "Epoch 401, Training Loss: 78924400.0000\n",
      "Epoch 501, Training Loss: 77679528.0000\n",
      "Epoch 601, Training Loss: 77132816.0000\n",
      "Epoch 701, Training Loss: 76916368.0000\n",
      "Epoch 801, Training Loss: 76143472.0000\n",
      "Epoch 901, Training Loss: 75870536.0000\n"
     ]
    }
   ],
   "source": [
    "# Run training\n",
    "losses = []\n",
    "for epoch in range(1000):\n",
    "    loss = train()\n",
    "    losses.append(loss)\n",
    "    if epoch % 100 == 0:\n",
    "        print(f'Epoch {epoch+1}, Training Loss: {loss.item():.4f}')"
   ]
  },
  {
   "cell_type": "code",
   "execution_count": 11,
   "id": "1d77dc0d",
   "metadata": {
    "execution": {
     "iopub.execute_input": "2024-09-09T18:44:09.578959Z",
     "iopub.status.busy": "2024-09-09T18:44:09.578631Z",
     "iopub.status.idle": "2024-09-09T18:44:09.841198Z",
     "shell.execute_reply": "2024-09-09T18:44:09.840287Z"
    },
    "papermill": {
     "duration": 0.272055,
     "end_time": "2024-09-09T18:44:09.843329",
     "exception": false,
     "start_time": "2024-09-09T18:44:09.571274",
     "status": "completed"
    },
    "tags": []
   },
   "outputs": [
    {
     "data": {
      "text/plain": [
       "[<matplotlib.lines.Line2D at 0x7d3954b8ad70>]"
      ]
     },
     "execution_count": 11,
     "metadata": {},
     "output_type": "execute_result"
    },
    {
     "data": {
      "image/png": "[encoded data removed]",
      "text/plain": [
       "<Figure size 640x480 with 1 Axes>"
      ]
     },
     "metadata": {},
     "output_type": "display_data"
    }
   ],
   "source": [
    "plt.plot(losses)"
   ]
  },
  {
   "cell_type": "code",
   "execution_count": 12,
   "id": "177234aa",
   "metadata": {
    "execution": {
     "iopub.execute_input": "2024-09-09T18:44:09.858292Z",
     "iopub.status.busy": "2024-09-09T18:44:09.857962Z",
     "iopub.status.idle": "2024-09-09T18:44:09.864669Z",
     "shell.execute_reply": "2024-09-09T18:44:09.863850Z"
    },
    "papermill": {
     "duration": 0.016197,
     "end_time": "2024-09-09T18:44:09.866489",
     "exception": false,
     "start_time": "2024-09-09T18:44:09.850292",
     "status": "completed"
    },
    "tags": []
   },
   "outputs": [
    {
     "data": {
      "text/plain": [
       "99507111.0"
      ]
     },
     "execution_count": 12,
     "metadata": {},
     "output_type": "execute_result"
    }
   ],
   "source": [
    "threshold = np.mean(losses) + 3*np.std(losses)\n",
    "threshold"
   ]
  },
  {
   "cell_type": "code",
   "execution_count": 13,
   "id": "be84afb8",
   "metadata": {
    "execution": {
     "iopub.execute_input": "2024-09-09T18:44:09.881894Z",
     "iopub.status.busy": "2024-09-09T18:44:09.881608Z",
     "iopub.status.idle": "2024-09-09T18:44:09.887328Z",
     "shell.execute_reply": "2024-09-09T18:44:09.886463Z"
    },
    "papermill": {
     "duration": 0.015602,
     "end_time": "2024-09-09T18:44:09.889259",
     "exception": false,
     "start_time": "2024-09-09T18:44:09.873657",
     "status": "completed"
    },
    "tags": []
   },
   "outputs": [],
   "source": [
    "# Inference for anomaly detection\n",
    "def detect_anomalies(data, threshold=0.1):\n",
    "    model.eval()\n",
    "    with torch.no_grad():\n",
    "        for i, data in enumerate(loader):\n",
    "#             print(i)\n",
    "            x_hat, z = model(data)\n",
    "            reconstruction_error = torch.mean((x_hat - data.x) ** 2, dim=1)\n",
    "            anomalies = reconstruction_error > threshold\n",
    "    return anomalies, reconstruction_error, data.x, x_hat"
   ]
  },
  {
   "cell_type": "code",
   "execution_count": 14,
   "id": "cbbee991",
   "metadata": {
    "execution": {
     "iopub.execute_input": "2024-09-09T18:44:09.905549Z",
     "iopub.status.busy": "2024-09-09T18:44:09.905274Z",
     "iopub.status.idle": "2024-09-09T18:44:17.799498Z",
     "shell.execute_reply": "2024-09-09T18:44:17.798456Z"
    },
    "papermill": {
     "duration": 7.904176,
     "end_time": "2024-09-09T18:44:17.801623",
     "exception": false,
     "start_time": "2024-09-09T18:44:09.897447",
     "status": "completed"
    },
    "tags": []
   },
   "outputs": [
    {
     "name": "stdout",
     "output_type": "stream",
     "text": [
      "Anomalies detected: 0\n"
     ]
    }
   ],
   "source": [
    "# Detect anomalies in the dataset\n",
    "anomalies, reconstruction_error, x, x_hat = detect_anomalies(data = loader, threshold = threshold)\n",
    "print(f\"Anomalies detected: {anomalies.sum().item()}\")"
   ]
  },
  {
   "cell_type": "code",
   "execution_count": 15,
   "id": "b3d992b8",
   "metadata": {
    "execution": {
     "iopub.execute_input": "2024-09-09T18:44:17.817358Z",
     "iopub.status.busy": "2024-09-09T18:44:17.817036Z",
     "iopub.status.idle": "2024-09-09T18:44:17.829449Z",
     "shell.execute_reply": "2024-09-09T18:44:17.828778Z"
    },
    "papermill": {
     "duration": 0.022313,
     "end_time": "2024-09-09T18:44:17.831228",
     "exception": false,
     "start_time": "2024-09-09T18:44:17.808915",
     "status": "completed"
    },
    "tags": []
   },
   "outputs": [],
   "source": [
    "torch.save(model, \"ae_gcn_model_selu.pth\")"
   ]
  },
  {
   "cell_type": "code",
   "execution_count": 16,
   "id": "a2e1d184",
   "metadata": {
    "execution": {
     "iopub.execute_input": "2024-09-09T18:44:17.846616Z",
     "iopub.status.busy": "2024-09-09T18:44:17.846113Z",
     "iopub.status.idle": "2024-09-09T18:44:17.858928Z",
     "shell.execute_reply": "2024-09-09T18:44:17.858091Z"
    },
    "papermill": {
     "duration": 0.022929,
     "end_time": "2024-09-09T18:44:17.861246",
     "exception": false,
     "start_time": "2024-09-09T18:44:17.838317",
     "status": "completed"
    },
    "tags": []
   },
   "outputs": [
    {
     "name": "stderr",
     "output_type": "stream",
     "text": [
      "/tmp/ipykernel_23/1195129994.py:1: FutureWarning: You are using `torch.load` with `weights_only=False` (the current default value), which uses the default pickle module implicitly. It is possible to construct malicious pickle data which will execute arbitrary code during unpickling (See https://github.com/pytorch/pytorch/blob/main/SECURITY.md#untrusted-models for more details). In a future release, the default value for `weights_only` will be flipped to `True`. This limits the functions that could be executed during unpickling. Arbitrary objects will no longer be allowed to be loaded via this mode unless they are explicitly allowlisted by the user via `torch.serialization.add_safe_globals`. We recommend you start setting `weights_only=True` for any use case where you don't have full control of the loaded file. Please open an issue on GitHub for any issues related to this experimental feature.\n",
      "  ccc = torch.load(\"ae_gcn_model_selu.pth\")\n"
     ]
    },
    {
     "data": {
      "text/plain": [
       "GATAutoencoder(\n",
       "  (encoder): GATEncoder(\n",
       "    (conv1): GCNConv(128, 128)\n",
       "    (conv2): GCNConv(128, 64)\n",
       "    (conv3): GCNConv(64, 8)\n",
       "    (norm1): LayerNorm((128,), eps=1e-05, elementwise_affine=True)\n",
       "    (norm2): LayerNorm((64,), eps=1e-05, elementwise_affine=True)\n",
       "    (dropout): Dropout(p=0.1, inplace=False)\n",
       "  )\n",
       "  (decoder): GATDecoder(\n",
       "    (conv1): GCNConv(8, 64)\n",
       "    (conv2): GCNConv(64, 128)\n",
       "    (conv3): GCNConv(128, 128)\n",
       "    (norm1): LayerNorm((64,), eps=1e-05, elementwise_affine=True)\n",
       "    (norm2): LayerNorm((128,), eps=1e-05, elementwise_affine=True)\n",
       "    (dropout): Dropout(p=0.1, inplace=False)\n",
       "  )\n",
       ")"
      ]
     },
     "execution_count": 16,
     "metadata": {},
     "output_type": "execute_result"
    }
   ],
   "source": [
    "ccc = torch.load(\"ae_gcn_model_selu.pth\")\n",
    "ccc.eval()"
   ]
  }
 ],
 "metadata": {
  "kaggle": {
   "accelerator": "gpu",
   "dataSources": [
    {
     "datasetId": 5560950,
     "sourceId": 9198106,
     "sourceType": "datasetVersion"
    }
   ],
   "dockerImageVersionId": 30762,
   "isGpuEnabled": true,
   "isInternetEnabled": true,
   "language": "python",
   "sourceType": "notebook"
  },
  "kernelspec": {
   "display_name": "Python 3",
   "language": "python",
   "name": "python3"
  },
  "language_info": {
   "codemirror_mode": {
    "name": "ipython",
    "version": 3
   },
   "file_extension": ".py",
   "mimetype": "text/x-python",
   "name": "python",
   "nbconvert_exporter": "python",
   "pygments_lexer": "ipython3",
   "version": "3.10.14"
  },
  "papermill": {
   "default_parameters": {},
   "duration": 12202.309391,
   "end_time": "2024-09-09T18:44:20.181072",
   "environment_variables": {},
   "exception": null,
   "input_path": "__notebook__.ipynb",
   "output_path": "__notebook__.ipynb",
   "parameters": {},
   "start_time": "2024-09-09T15:20:57.871681",
   "version": "2.6.0"
  }
 },
 "nbformat": 4,
 "nbformat_minor": 5
}
