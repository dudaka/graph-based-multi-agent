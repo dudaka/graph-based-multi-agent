{
 "cells": [
  {
   "cell_type": "code",
   "execution_count": 1,
   "id": "2bfa7bb8",
   "metadata": {
    "_cell_guid": "b1076dfc-b9ad-4769-8c92-a6c4dae69d19",
    "_uuid": "8f2839f25d086af736a60e9eeb907d3b93b6e0e5",
    "execution": {
     "iopub.execute_input": "2024-09-09T15:41:25.472670Z",
     "iopub.status.busy": "2024-09-09T15:41:25.472292Z",
     "iopub.status.idle": "2024-09-09T15:41:40.904725Z",
     "shell.execute_reply": "2024-09-09T15:41:40.903703Z"
    },
    "papermill": {
     "duration": 15.441368,
     "end_time": "2024-09-09T15:41:40.907160",
     "exception": false,
     "start_time": "2024-09-09T15:41:25.465792",
     "status": "completed"
    },
    "tags": []
   },
   "outputs": [
    {
     "name": "stdout",
     "output_type": "stream",
     "text": [
      "Collecting torch_geometric\r\n",
      "  Downloading torch_geometric-2.5.3-py3-none-any.whl.metadata (64 kB)\r\n",
      "\u001b[2K     \u001b[90m━━━━━━━━━━━━━━━━━━━━━━━━━━━━━━━━━━━━━━━━\u001b[0m \u001b[32m64.2/64.2 kB\u001b[0m \u001b[31m2.2 MB/s\u001b[0m eta \u001b[36m0:00:00\u001b[0m\r\n",
      "\u001b[?25hRequirement already satisfied: tqdm in /opt/conda/lib/python3.10/site-packages (from torch_geometric) (4.66.4)\r\n",
      "Requirement already satisfied: numpy in /opt/conda/lib/python3.10/site-packages (from torch_geometric) (1.26.4)\r\n",
      "Requirement already satisfied: scipy in /opt/conda/lib/python3.10/site-packages (from torch_geometric) (1.14.0)\r\n",
      "Requirement already satisfied: fsspec in /opt/conda/lib/python3.10/site-packages (from torch_geometric) (2024.6.1)\r\n",
      "Requirement already satisfied: jinja2 in /opt/conda/lib/python3.10/site-packages (from torch_geometric) (3.1.4)\r\n",
      "Requirement already satisfied: aiohttp in /opt/conda/lib/python3.10/site-packages (from torch_geometric) (3.9.5)\r\n",
      "Requirement already satisfied: requests in /opt/conda/lib/python3.10/site-packages (from torch_geometric) (2.32.3)\r\n",
      "Requirement already satisfied: pyparsing in /opt/conda/lib/python3.10/site-packages (from torch_geometric) (3.1.2)\r\n",
      "Requirement already satisfied: scikit-learn in /opt/conda/lib/python3.10/site-packages (from torch_geometric) (1.2.2)\r\n",
      "Requirement already satisfied: psutil>=5.8.0 in /opt/conda/lib/python3.10/site-packages (from torch_geometric) (5.9.3)\r\n",
      "Requirement already satisfied: aiosignal>=1.1.2 in /opt/conda/lib/python3.10/site-packages (from aiohttp->torch_geometric) (1.3.1)\r\n",
      "Requirement already satisfied: attrs>=17.3.0 in /opt/conda/lib/python3.10/site-packages (from aiohttp->torch_geometric) (23.2.0)\r\n",
      "Requirement already satisfied: frozenlist>=1.1.1 in /opt/conda/lib/python3.10/site-packages (from aiohttp->torch_geometric) (1.4.1)\r\n",
      "Requirement already satisfied: multidict<7.0,>=4.5 in /opt/conda/lib/python3.10/site-packages (from aiohttp->torch_geometric) (6.0.5)\r\n",
      "Requirement already satisfied: yarl<2.0,>=1.0 in /opt/conda/lib/python3.10/site-packages (from aiohttp->torch_geometric) (1.9.4)\r\n",
      "Requirement already satisfied: async-timeout<5.0,>=4.0 in /opt/conda/lib/python3.10/site-packages (from aiohttp->torch_geometric) (4.0.3)\r\n",
      "Requirement already satisfied: MarkupSafe>=2.0 in /opt/conda/lib/python3.10/site-packages (from jinja2->torch_geometric) (2.1.5)\r\n",
      "Requirement already satisfied: charset-normalizer<4,>=2 in /opt/conda/lib/python3.10/site-packages (from requests->torch_geometric) (3.3.2)\r\n",
      "Requirement already satisfied: idna<4,>=2.5 in /opt/conda/lib/python3.10/site-packages (from requests->torch_geometric) (3.7)\r\n",
      "Requirement already satisfied: urllib3<3,>=1.21.1 in /opt/conda/lib/python3.10/site-packages (from requests->torch_geometric) (1.26.18)\r\n",
      "Requirement already satisfied: certifi>=2017.4.17 in /opt/conda/lib/python3.10/site-packages (from requests->torch_geometric) (2024.7.4)\r\n",
      "Requirement already satisfied: joblib>=1.1.1 in /opt/conda/lib/python3.10/site-packages (from scikit-learn->torch_geometric) (1.4.2)\r\n",
      "Requirement already satisfied: threadpoolctl>=2.0.0 in /opt/conda/lib/python3.10/site-packages (from scikit-learn->torch_geometric) (3.5.0)\r\n",
      "Downloading torch_geometric-2.5.3-py3-none-any.whl (1.1 MB)\r\n",
      "\u001b[2K   \u001b[90m━━━━━━━━━━━━━━━━━━━━━━━━━━━━━━━━━━━━━━━━\u001b[0m \u001b[32m1.1/1.1 MB\u001b[0m \u001b[31m23.9 MB/s\u001b[0m eta \u001b[36m0:00:00\u001b[0m\r\n",
      "\u001b[?25hInstalling collected packages: torch_geometric\r\n",
      "Successfully installed torch_geometric-2.5.3\r\n"
     ]
    }
   ],
   "source": [
    "!pip install torch_geometric"
   ]
  },
  {
   "cell_type": "code",
   "execution_count": 2,
   "id": "d3df9f0a",
   "metadata": {
    "execution": {
     "iopub.execute_input": "2024-09-09T15:41:40.920662Z",
     "iopub.status.busy": "2024-09-09T15:41:40.920320Z",
     "iopub.status.idle": "2024-09-09T15:41:47.272045Z",
     "shell.execute_reply": "2024-09-09T15:41:47.271235Z"
    },
    "papermill": {
     "duration": 6.3613,
     "end_time": "2024-09-09T15:41:47.274414",
     "exception": false,
     "start_time": "2024-09-09T15:41:40.913114",
     "status": "completed"
    },
    "tags": []
   },
   "outputs": [],
   "source": [
    "import torch\n",
    "import torch.nn.functional as F\n",
    "from torch_geometric.nn import SAGEConv\n",
    "from torch_geometric.data import Data, DataLoader\n",
    "import pickle\n",
    "import numpy as np\n",
    "import matplotlib.pyplot as plt"
   ]
  },
  {
   "cell_type": "code",
   "execution_count": 3,
   "id": "c6ad20f7",
   "metadata": {
    "execution": {
     "iopub.execute_input": "2024-09-09T15:41:47.287469Z",
     "iopub.status.busy": "2024-09-09T15:41:47.286548Z",
     "iopub.status.idle": "2024-09-09T15:41:47.300824Z",
     "shell.execute_reply": "2024-09-09T15:41:47.300132Z"
    },
    "papermill": {
     "duration": 0.022632,
     "end_time": "2024-09-09T15:41:47.302719",
     "exception": false,
     "start_time": "2024-09-09T15:41:47.280087",
     "status": "completed"
    },
    "tags": []
   },
   "outputs": [],
   "source": [
    "class GATEncoder(torch.nn.Module):\n",
    "    def __init__(self, in_channels, out_channels):\n",
    "        super(GATEncoder, self).__init__()\n",
    "        self.conv1 = SAGEConv(in_channels, 128)\n",
    "        self.conv2 = SAGEConv(128, 64)\n",
    "        self.conv3 = SAGEConv(64, out_channels)\n",
    "        self.norm1 = torch.nn.LayerNorm(128)\n",
    "        self.norm2 = torch.nn.LayerNorm(64)\n",
    "        self.dropout = torch.nn.Dropout(p=0.1)\n",
    "\n",
    "    def forward(self, data):\n",
    "        x, edge_index = data.x, data.edge_index\n",
    "        x = self.dropout(x)\n",
    "        x = F.selu(self.conv1(x, edge_index))\n",
    "        x = self.norm1(x)\n",
    "        x = self.dropout(x)\n",
    "        x = F.selu(self.conv2(x, edge_index))\n",
    "        x = self.norm2(x)\n",
    "        x = self.dropout(x)\n",
    "        x = self.conv3(x, edge_index)\n",
    "        return x\n",
    "\n",
    "class GATDecoder(torch.nn.Module):\n",
    "    def __init__(self, in_channels, out_channels):\n",
    "        super(GATDecoder, self).__init__()\n",
    "        self.conv1 = SAGEConv(in_channels, 64)\n",
    "        self.conv2 = SAGEConv(64, 128)\n",
    "        self.conv3 = SAGEConv(128, out_channels)\n",
    "        self.norm1 = torch.nn.LayerNorm(64)\n",
    "        self.norm2 = torch.nn.LayerNorm(out_channels)\n",
    "        self.dropout = torch.nn.Dropout(p=0.1)\n",
    "\n",
    "    def forward(self, x, edge_index):\n",
    "        x = self.dropout(x)\n",
    "        x = F.selu(self.conv1(x, edge_index))\n",
    "        x = self.norm1(x)\n",
    "        x = self.dropout(x)\n",
    "        x = F.selu(self.conv2(x, edge_index))\n",
    "        x = self.norm2(x)\n",
    "        x = self.dropout(x)\n",
    "        x = self.conv3(x, edge_index)\n",
    "        return x\n",
    "\n",
    "class GATAutoencoder(torch.nn.Module):\n",
    "    def __init__(self, in_channels, hidden_channels):\n",
    "        super(GATAutoencoder, self).__init__()\n",
    "        self.encoder = GATEncoder(in_channels, hidden_channels)\n",
    "        self.decoder = GATDecoder(hidden_channels, in_channels)\n",
    "\n",
    "    def forward(self, data):\n",
    "        z = self.encoder(data)\n",
    "        x_hat = self.decoder(z, data.edge_index)\n",
    "        return x_hat, z\n"
   ]
  },
  {
   "cell_type": "code",
   "execution_count": 4,
   "id": "07b9bc7a",
   "metadata": {
    "execution": {
     "iopub.execute_input": "2024-09-09T15:41:47.315627Z",
     "iopub.status.busy": "2024-09-09T15:41:47.315292Z",
     "iopub.status.idle": "2024-09-09T15:41:47.894350Z",
     "shell.execute_reply": "2024-09-09T15:41:47.893396Z"
    },
    "papermill": {
     "duration": 0.587719,
     "end_time": "2024-09-09T15:41:47.896642",
     "exception": false,
     "start_time": "2024-09-09T15:41:47.308923",
     "status": "completed"
    },
    "tags": []
   },
   "outputs": [
    {
     "name": "stderr",
     "output_type": "stream",
     "text": [
      "/opt/conda/lib/python3.10/site-packages/torch/storage.py:414: FutureWarning: You are using `torch.load` with `weights_only=False` (the current default value), which uses the default pickle module implicitly. It is possible to construct malicious pickle data which will execute arbitrary code during unpickling (See https://github.com/pytorch/pytorch/blob/main/SECURITY.md#untrusted-models for more details). In a future release, the default value for `weights_only` will be flipped to `True`. This limits the functions that could be executed during unpickling. Arbitrary objects will no longer be allowed to be loaded via this mode unless they are explicitly allowlisted by the user via `torch.serialization.add_safe_globals`. We recommend you start setting `weights_only=True` for any use case where you don't have full control of the loaded file. Please open an issue on GitHub for any issues related to this experimental feature.\n",
      "  return torch.load(io.BytesIO(b))\n"
     ]
    },
    {
     "data": {
      "text/plain": [
       "Data(x=[3, 1, 128], edge_index=[2, 3])"
      ]
     },
     "execution_count": 4,
     "metadata": {},
     "output_type": "execute_result"
    }
   ],
   "source": [
    "with open(\"/kaggle/input/graph-torch-geometric/graphs.picke\", \"rb\") as f:\n",
    "    gs = pickle.load(f)\n",
    "gs[0]"
   ]
  },
  {
   "cell_type": "code",
   "execution_count": 5,
   "id": "ac42e27e",
   "metadata": {
    "execution": {
     "iopub.execute_input": "2024-09-09T15:41:47.909676Z",
     "iopub.status.busy": "2024-09-09T15:41:47.909295Z",
     "iopub.status.idle": "2024-09-09T15:41:47.914723Z",
     "shell.execute_reply": "2024-09-09T15:41:47.913746Z"
    },
    "papermill": {
     "duration": 0.014181,
     "end_time": "2024-09-09T15:41:47.916726",
     "exception": false,
     "start_time": "2024-09-09T15:41:47.902545",
     "status": "completed"
    },
    "tags": []
   },
   "outputs": [],
   "source": [
    "# Normalize embeddings to the range [0, 1]\n",
    "def normalize_embeddings(data):\n",
    "    min_val = data.min(dim=0, keepdim=True)[0]\n",
    "    max_val = data.max(dim=0, keepdim=True)[0]\n",
    "    data = (data - min_val) / (1 + max_val - min_val)\n",
    "    return data"
   ]
  },
  {
   "cell_type": "code",
   "execution_count": 6,
   "id": "9ceecd0b",
   "metadata": {
    "execution": {
     "iopub.execute_input": "2024-09-09T15:41:47.929114Z",
     "iopub.status.busy": "2024-09-09T15:41:47.928794Z",
     "iopub.status.idle": "2024-09-09T15:41:48.303213Z",
     "shell.execute_reply": "2024-09-09T15:41:48.302164Z"
    },
    "papermill": {
     "duration": 0.383519,
     "end_time": "2024-09-09T15:41:48.305740",
     "exception": false,
     "start_time": "2024-09-09T15:41:47.922221",
     "status": "completed"
    },
    "tags": []
   },
   "outputs": [],
   "source": [
    "def convert_graph_datatype(g):\n",
    "    x = torch.reshape(g.x, (g.x.shape[0], 128))\n",
    "#     x = normalize_embeddings(x)\n",
    "    return Data(x=x.type(torch.float), edge_index=g.edge_index).to(\"cuda\")\n",
    "\n",
    "converted_graph = [convert_graph_datatype(g) for g in gs]"
   ]
  },
  {
   "cell_type": "code",
   "execution_count": 7,
   "id": "1a6ffc86",
   "metadata": {
    "execution": {
     "iopub.execute_input": "2024-09-09T15:41:48.319286Z",
     "iopub.status.busy": "2024-09-09T15:41:48.318917Z",
     "iopub.status.idle": "2024-09-09T15:41:48.325019Z",
     "shell.execute_reply": "2024-09-09T15:41:48.324222Z"
    },
    "papermill": {
     "duration": 0.014852,
     "end_time": "2024-09-09T15:41:48.327056",
     "exception": false,
     "start_time": "2024-09-09T15:41:48.312204",
     "status": "completed"
    },
    "tags": []
   },
   "outputs": [
    {
     "name": "stderr",
     "output_type": "stream",
     "text": [
      "/opt/conda/lib/python3.10/site-packages/torch_geometric/deprecation.py:26: UserWarning: 'data.DataLoader' is deprecated, use 'loader.DataLoader' instead\n",
      "  warnings.warn(out)\n"
     ]
    }
   ],
   "source": [
    "# Define DataLoader\n",
    "batch_size = 1\n",
    "num_features = 128\n",
    "loader = DataLoader(converted_graph, batch_size=batch_size, shuffle=True)"
   ]
  },
  {
   "cell_type": "code",
   "execution_count": 8,
   "id": "b5028e22",
   "metadata": {
    "execution": {
     "iopub.execute_input": "2024-09-09T15:41:48.339786Z",
     "iopub.status.busy": "2024-09-09T15:41:48.339466Z",
     "iopub.status.idle": "2024-09-09T15:41:48.430024Z",
     "shell.execute_reply": "2024-09-09T15:41:48.429009Z"
    },
    "papermill": {
     "duration": 0.099753,
     "end_time": "2024-09-09T15:41:48.432479",
     "exception": false,
     "start_time": "2024-09-09T15:41:48.332726",
     "status": "completed"
    },
    "tags": []
   },
   "outputs": [],
   "source": [
    "# Model instantiation\n",
    "model = GATAutoencoder(num_features, hidden_channels=8).to(\"cuda\")\n",
    "# model = GATAutoencoder()\n",
    "optimizer = torch.optim.Adam(model.parameters(), lr=0.001, weight_decay=5e-4)\n",
    "criterion = torch.nn.MSELoss()"
   ]
  },
  {
   "cell_type": "code",
   "execution_count": 9,
   "id": "b3689b00",
   "metadata": {
    "execution": {
     "iopub.execute_input": "2024-09-09T15:41:48.445677Z",
     "iopub.status.busy": "2024-09-09T15:41:48.445364Z",
     "iopub.status.idle": "2024-09-09T15:41:48.451181Z",
     "shell.execute_reply": "2024-09-09T15:41:48.450292Z"
    },
    "papermill": {
     "duration": 0.014445,
     "end_time": "2024-09-09T15:41:48.453121",
     "exception": false,
     "start_time": "2024-09-09T15:41:48.438676",
     "status": "completed"
    },
    "tags": []
   },
   "outputs": [],
   "source": [
    "# Training loop\n",
    "def train():\n",
    "    model.train()\n",
    "    losses = []\n",
    "    for data in loader:\n",
    "        optimizer.zero_grad()\n",
    "        x_hat, z = model(data)\n",
    "        loss = criterion(x_hat, data.x)  # Reconstruction loss\n",
    "        losses.append(loss.to(\"cpu\").detach().numpy())\n",
    "        loss.backward()\n",
    "        optimizer.step()\n",
    "    return np.mean(losses)"
   ]
  },
  {
   "cell_type": "code",
   "execution_count": 10,
   "id": "1db6656b",
   "metadata": {
    "execution": {
     "iopub.execute_input": "2024-09-09T15:41:48.465793Z",
     "iopub.status.busy": "2024-09-09T15:41:48.465469Z",
     "iopub.status.idle": "2024-09-09T18:23:15.679075Z",
     "shell.execute_reply": "2024-09-09T18:23:15.678260Z"
    },
    "papermill": {
     "duration": 9687.222616,
     "end_time": "2024-09-09T18:23:15.681573",
     "exception": false,
     "start_time": "2024-09-09T15:41:48.458957",
     "status": "completed"
    },
    "tags": []
   },
   "outputs": [
    {
     "name": "stdout",
     "output_type": "stream",
     "text": [
      "Epoch 1, Training Loss: 172848768.0000\n",
      "Epoch 101, Training Loss: 55547768.0000\n",
      "Epoch 201, Training Loss: 49550436.0000\n",
      "Epoch 301, Training Loss: 46634812.0000\n",
      "Epoch 401, Training Loss: 45181736.0000\n",
      "Epoch 501, Training Loss: 44313844.0000\n",
      "Epoch 601, Training Loss: 43919212.0000\n",
      "Epoch 701, Training Loss: 43161760.0000\n",
      "Epoch 801, Training Loss: 42757788.0000\n",
      "Epoch 901, Training Loss: 42702140.0000\n"
     ]
    }
   ],
   "source": [
    "# Run training\n",
    "losses = []\n",
    "for epoch in range(1000):\n",
    "    loss = train()\n",
    "    losses.append(loss)\n",
    "    if epoch % 100 == 0:\n",
    "        print(f'Epoch {epoch+1}, Training Loss: {loss.item():.4f}')"
   ]
  },
  {
   "cell_type": "code",
   "execution_count": 11,
   "id": "5faa61d1",
   "metadata": {
    "execution": {
     "iopub.execute_input": "2024-09-09T18:23:15.696222Z",
     "iopub.status.busy": "2024-09-09T18:23:15.695640Z",
     "iopub.status.idle": "2024-09-09T18:23:15.967254Z",
     "shell.execute_reply": "2024-09-09T18:23:15.966381Z"
    },
    "papermill": {
     "duration": 0.280855,
     "end_time": "2024-09-09T18:23:15.969220",
     "exception": false,
     "start_time": "2024-09-09T18:23:15.688365",
     "status": "completed"
    },
    "tags": []
   },
   "outputs": [
    {
     "data": {
      "text/plain": [
       "[<matplotlib.lines.Line2D at 0x78513aa33d00>]"
      ]
     },
     "execution_count": 11,
     "metadata": {},
     "output_type": "execute_result"
    },
    {
     "data": {
      "image/png": "[encoded data removed]",
      "text/plain": [
       "<Figure size 640x480 with 1 Axes>"
      ]
     },
     "metadata": {},
     "output_type": "display_data"
    }
   ],
   "source": [
    "plt.plot(losses)"
   ]
  },
  {
   "cell_type": "code",
   "execution_count": 12,
   "id": "639b2ebc",
   "metadata": {
    "execution": {
     "iopub.execute_input": "2024-09-09T18:23:15.984402Z",
     "iopub.status.busy": "2024-09-09T18:23:15.984114Z",
     "iopub.status.idle": "2024-09-09T18:23:15.990389Z",
     "shell.execute_reply": "2024-09-09T18:23:15.989604Z"
    },
    "papermill": {
     "duration": 0.015811,
     "end_time": "2024-09-09T18:23:15.992214",
     "exception": false,
     "start_time": "2024-09-09T18:23:15.976403",
     "status": "completed"
    },
    "tags": []
   },
   "outputs": [
    {
     "data": {
      "text/plain": [
       "75264740.0"
      ]
     },
     "execution_count": 12,
     "metadata": {},
     "output_type": "execute_result"
    }
   ],
   "source": [
    "threshold = np.mean(losses) + 3*np.std(losses)\n",
    "threshold"
   ]
  },
  {
   "cell_type": "code",
   "execution_count": 13,
   "id": "ce4d3d3b",
   "metadata": {
    "execution": {
     "iopub.execute_input": "2024-09-09T18:23:16.007146Z",
     "iopub.status.busy": "2024-09-09T18:23:16.006832Z",
     "iopub.status.idle": "2024-09-09T18:23:16.012381Z",
     "shell.execute_reply": "2024-09-09T18:23:16.011581Z"
    },
    "papermill": {
     "duration": 0.015094,
     "end_time": "2024-09-09T18:23:16.014222",
     "exception": false,
     "start_time": "2024-09-09T18:23:15.999128",
     "status": "completed"
    },
    "tags": []
   },
   "outputs": [],
   "source": [
    "# Inference for anomaly detection\n",
    "def detect_anomalies(data, threshold=0.1):\n",
    "    model.eval()\n",
    "    with torch.no_grad():\n",
    "        for i, data in enumerate(loader):\n",
    "#             print(i)\n",
    "            x_hat, z = model(data)\n",
    "            reconstruction_error = torch.mean((x_hat - data.x) ** 2, dim=1)\n",
    "            anomalies = reconstruction_error > threshold\n",
    "    return anomalies, reconstruction_error, data.x, x_hat"
   ]
  },
  {
   "cell_type": "code",
   "execution_count": 14,
   "id": "949c4076",
   "metadata": {
    "execution": {
     "iopub.execute_input": "2024-09-09T18:23:16.029144Z",
     "iopub.status.busy": "2024-09-09T18:23:16.028845Z",
     "iopub.status.idle": "2024-09-09T18:23:20.988811Z",
     "shell.execute_reply": "2024-09-09T18:23:20.987762Z"
    },
    "papermill": {
     "duration": 4.969856,
     "end_time": "2024-09-09T18:23:20.991033",
     "exception": false,
     "start_time": "2024-09-09T18:23:16.021177",
     "status": "completed"
    },
    "tags": []
   },
   "outputs": [
    {
     "name": "stdout",
     "output_type": "stream",
     "text": [
      "Anomalies detected: 3\n"
     ]
    }
   ],
   "source": [
    "# Detect anomalies in the dataset\n",
    "anomalies, reconstruction_error, x, x_hat = detect_anomalies(data = loader, threshold = threshold)\n",
    "print(f\"Anomalies detected: {anomalies.sum().item()}\")"
   ]
  },
  {
   "cell_type": "code",
   "execution_count": 15,
   "id": "dd58aea2",
   "metadata": {
    "execution": {
     "iopub.execute_input": "2024-09-09T18:23:21.007649Z",
     "iopub.status.busy": "2024-09-09T18:23:21.007328Z",
     "iopub.status.idle": "2024-09-09T18:23:21.021201Z",
     "shell.execute_reply": "2024-09-09T18:23:21.020352Z"
    },
    "papermill": {
     "duration": 0.024232,
     "end_time": "2024-09-09T18:23:21.023109",
     "exception": false,
     "start_time": "2024-09-09T18:23:20.998877",
     "status": "completed"
    },
    "tags": []
   },
   "outputs": [],
   "source": [
    "torch.save(model, \"ae_sage_model_selu.pth\")"
   ]
  },
  {
   "cell_type": "code",
   "execution_count": 16,
   "id": "d5d54a87",
   "metadata": {
    "execution": {
     "iopub.execute_input": "2024-09-09T18:23:21.038767Z",
     "iopub.status.busy": "2024-09-09T18:23:21.038454Z",
     "iopub.status.idle": "2024-09-09T18:23:21.053048Z",
     "shell.execute_reply": "2024-09-09T18:23:21.052219Z"
    },
    "papermill": {
     "duration": 0.024607,
     "end_time": "2024-09-09T18:23:21.055019",
     "exception": false,
     "start_time": "2024-09-09T18:23:21.030412",
     "status": "completed"
    },
    "tags": []
   },
   "outputs": [
    {
     "name": "stderr",
     "output_type": "stream",
     "text": [
      "/tmp/ipykernel_24/3817213920.py:1: FutureWarning: You are using `torch.load` with `weights_only=False` (the current default value), which uses the default pickle module implicitly. It is possible to construct malicious pickle data which will execute arbitrary code during unpickling (See https://github.com/pytorch/pytorch/blob/main/SECURITY.md#untrusted-models for more details). In a future release, the default value for `weights_only` will be flipped to `True`. This limits the functions that could be executed during unpickling. Arbitrary objects will no longer be allowed to be loaded via this mode unless they are explicitly allowlisted by the user via `torch.serialization.add_safe_globals`. We recommend you start setting `weights_only=True` for any use case where you don't have full control of the loaded file. Please open an issue on GitHub for any issues related to this experimental feature.\n",
      "  ccc = torch.load(\"ae_sage_model_selu.pth\")\n"
     ]
    },
    {
     "data": {
      "text/plain": [
       "GATAutoencoder(\n",
       "  (encoder): GATEncoder(\n",
       "    (conv1): SAGEConv(128, 128, aggr=mean)\n",
       "    (conv2): SAGEConv(128, 64, aggr=mean)\n",
       "    (conv3): SAGEConv(64, 8, aggr=mean)\n",
       "    (norm1): LayerNorm((128,), eps=1e-05, elementwise_affine=True)\n",
       "    (norm2): LayerNorm((64,), eps=1e-05, elementwise_affine=True)\n",
       "    (dropout): Dropout(p=0.1, inplace=False)\n",
       "  )\n",
       "  (decoder): GATDecoder(\n",
       "    (conv1): SAGEConv(8, 64, aggr=mean)\n",
       "    (conv2): SAGEConv(64, 128, aggr=mean)\n",
       "    (conv3): SAGEConv(128, 128, aggr=mean)\n",
       "    (norm1): LayerNorm((64,), eps=1e-05, elementwise_affine=True)\n",
       "    (norm2): LayerNorm((128,), eps=1e-05, elementwise_affine=True)\n",
       "    (dropout): Dropout(p=0.1, inplace=False)\n",
       "  )\n",
       ")"
      ]
     },
     "execution_count": 16,
     "metadata": {},
     "output_type": "execute_result"
    }
   ],
   "source": [
    "ccc = torch.load(\"ae_sage_model_selu.pth\")\n",
    "ccc.eval()"
   ]
  }
 ],
 "metadata": {
  "kaggle": {
   "accelerator": "gpu",
   "dataSources": [
    {
     "datasetId": 5560950,
     "sourceId": 9198106,
     "sourceType": "datasetVersion"
    }
   ],
   "dockerImageVersionId": 30762,
   "isGpuEnabled": true,
   "isInternetEnabled": true,
   "language": "python",
   "sourceType": "notebook"
  },
  "kernelspec": {
   "display_name": "Python 3",
   "language": "python",
   "name": "python3"
  },
  "language_info": {
   "codemirror_mode": {
    "name": "ipython",
    "version": 3
   },
   "file_extension": ".py",
   "mimetype": "text/x-python",
   "name": "python",
   "nbconvert_exporter": "python",
   "pygments_lexer": "ipython3",
   "version": "3.10.14"
  },
  "papermill": {
   "default_parameters": {},
   "duration": 9719.655609,
   "end_time": "2024-09-09T18:23:22.384200",
   "environment_variables": {},
   "exception": null,
   "input_path": "__notebook__.ipynb",
   "output_path": "__notebook__.ipynb",
   "parameters": {},
   "start_time": "2024-09-09T15:41:22.728591",
   "version": "2.6.0"
  }
 },
 "nbformat": 4,
 "nbformat_minor": 5
}
