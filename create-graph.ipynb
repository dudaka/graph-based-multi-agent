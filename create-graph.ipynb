{
 "cells": [
  {
   "cell_type": "code",
   "execution_count": 1,
   "id": "237a2c7f",
   "metadata": {
    "execution": {
     "iopub.execute_input": "2024-08-13T16:05:55.772586Z",
     "iopub.status.busy": "2024-08-13T16:05:55.772174Z",
     "iopub.status.idle": "2024-08-13T16:06:14.001006Z",
     "shell.execute_reply": "2024-08-13T16:06:13.999354Z"
    },
    "papermill": {
     "duration": 18.238517,
     "end_time": "2024-08-13T16:06:14.003672",
     "exception": false,
     "start_time": "2024-08-13T16:05:55.765155",
     "status": "completed"
    },
    "tags": []
   },
   "outputs": [
    {
     "name": "stdout",
     "output_type": "stream",
     "text": [
      "Looking in links: https://data.dgl.ai/wheels/torch-2.1/repo.html\r\n",
      "Collecting dgl\r\n",
      "  Downloading https://data.dgl.ai/wheels/torch-2.1/dgl-2.3.0-cp310-cp310-manylinux1_x86_64.whl (6.8 MB)\r\n",
      "\u001b[2K     \u001b[90m━━━━━━━━━━━━━━━━━━━━━━━━━━━━━━━━━━━━━━━━\u001b[0m \u001b[32m6.8/6.8 MB\u001b[0m \u001b[31m41.9 MB/s\u001b[0m eta \u001b[36m0:00:00\u001b[0m\r\n",
      "\u001b[?25hRequirement already satisfied: numpy<2.0.0,>=1.14.0 in /opt/conda/lib/python3.10/site-packages (from dgl) (1.26.4)\r\n",
      "Requirement already satisfied: scipy>=1.1.0 in /opt/conda/lib/python3.10/site-packages (from dgl) (1.11.4)\r\n",
      "Requirement already satisfied: networkx>=2.1 in /opt/conda/lib/python3.10/site-packages (from dgl) (3.2.1)\r\n",
      "Requirement already satisfied: requests>=2.19.0 in /opt/conda/lib/python3.10/site-packages (from dgl) (2.32.3)\r\n",
      "Requirement already satisfied: tqdm in /opt/conda/lib/python3.10/site-packages (from dgl) (4.66.4)\r\n",
      "Requirement already satisfied: psutil>=5.8.0 in /opt/conda/lib/python3.10/site-packages (from dgl) (5.9.3)\r\n",
      "Requirement already satisfied: torchdata>=0.5.0 in /opt/conda/lib/python3.10/site-packages (from dgl) (0.7.1)\r\n",
      "Requirement already satisfied: pandas in /opt/conda/lib/python3.10/site-packages (from dgl) (2.2.2)\r\n",
      "Requirement already satisfied: charset-normalizer<4,>=2 in /opt/conda/lib/python3.10/site-packages (from requests>=2.19.0->dgl) (3.3.2)\r\n",
      "Requirement already satisfied: idna<4,>=2.5 in /opt/conda/lib/python3.10/site-packages (from requests>=2.19.0->dgl) (3.6)\r\n",
      "Requirement already satisfied: urllib3<3,>=1.21.1 in /opt/conda/lib/python3.10/site-packages (from requests>=2.19.0->dgl) (1.26.18)\r\n",
      "Requirement already satisfied: certifi>=2017.4.17 in /opt/conda/lib/python3.10/site-packages (from requests>=2.19.0->dgl) (2024.7.4)\r\n",
      "Requirement already satisfied: torch>=2 in /opt/conda/lib/python3.10/site-packages (from torchdata>=0.5.0->dgl) (2.1.2+cpu)\r\n",
      "Requirement already satisfied: python-dateutil>=2.8.2 in /opt/conda/lib/python3.10/site-packages (from pandas->dgl) (2.9.0.post0)\r\n",
      "Requirement already satisfied: pytz>=2020.1 in /opt/conda/lib/python3.10/site-packages (from pandas->dgl) (2023.3.post1)\r\n",
      "Requirement already satisfied: tzdata>=2022.7 in /opt/conda/lib/python3.10/site-packages (from pandas->dgl) (2023.4)\r\n",
      "Requirement already satisfied: six>=1.5 in /opt/conda/lib/python3.10/site-packages (from python-dateutil>=2.8.2->pandas->dgl) (1.16.0)\r\n",
      "Requirement already satisfied: filelock in /opt/conda/lib/python3.10/site-packages (from torch>=2->torchdata>=0.5.0->dgl) (3.13.1)\r\n",
      "Requirement already satisfied: typing-extensions in /opt/conda/lib/python3.10/site-packages (from torch>=2->torchdata>=0.5.0->dgl) (4.9.0)\r\n",
      "Requirement already satisfied: sympy in /opt/conda/lib/python3.10/site-packages (from torch>=2->torchdata>=0.5.0->dgl) (1.13.0)\r\n",
      "Requirement already satisfied: jinja2 in /opt/conda/lib/python3.10/site-packages (from torch>=2->torchdata>=0.5.0->dgl) (3.1.2)\r\n",
      "Requirement already satisfied: fsspec in /opt/conda/lib/python3.10/site-packages (from torch>=2->torchdata>=0.5.0->dgl) (2024.5.0)\r\n",
      "Requirement already satisfied: MarkupSafe>=2.0 in /opt/conda/lib/python3.10/site-packages (from jinja2->torch>=2->torchdata>=0.5.0->dgl) (2.1.3)\r\n",
      "Requirement already satisfied: mpmath<1.4,>=1.1.0 in /opt/conda/lib/python3.10/site-packages (from sympy->torch>=2->torchdata>=0.5.0->dgl) (1.3.0)\r\n",
      "Installing collected packages: dgl\r\n",
      "Successfully installed dgl-2.3.0\r\n",
      "Note: you may need to restart the kernel to use updated packages.\n"
     ]
    }
   ],
   "source": [
    "pip install  dgl -f https://data.dgl.ai/wheels/torch-2.1/repo.html"
   ]
  },
  {
   "cell_type": "code",
   "execution_count": 2,
   "id": "ba588497",
   "metadata": {
    "execution": {
     "iopub.execute_input": "2024-08-13T16:06:14.018442Z",
     "iopub.status.busy": "2024-08-13T16:06:14.017999Z",
     "iopub.status.idle": "2024-08-13T16:06:21.925335Z",
     "shell.execute_reply": "2024-08-13T16:06:21.924323Z"
    },
    "papermill": {
     "duration": 7.918191,
     "end_time": "2024-08-13T16:06:21.928341",
     "exception": false,
     "start_time": "2024-08-13T16:06:14.010150",
     "status": "completed"
    },
    "tags": []
   },
   "outputs": [
    {
     "name": "stdout",
     "output_type": "stream",
     "text": [
      "Setting the default backend to \"pytorch\". You can change it in the ~/.dgl/config.json file or export the DGLBACKEND environment variable.  Valid options are: pytorch, mxnet, tensorflow (all lowercase)\n"
     ]
    },
    {
     "name": "stderr",
     "output_type": "stream",
     "text": [
      "DGL backend not selected or invalid.  Assuming PyTorch for now.\n"
     ]
    }
   ],
   "source": [
    "import dgl\n",
    "import json\n",
    "import torch\n",
    "import pickle\n",
    "import numpy as np"
   ]
  },
  {
   "cell_type": "code",
   "execution_count": 3,
   "id": "2ca37096",
   "metadata": {
    "execution": {
     "iopub.execute_input": "2024-08-13T16:06:21.944001Z",
     "iopub.status.busy": "2024-08-13T16:06:21.942856Z",
     "iopub.status.idle": "2024-08-13T16:06:22.836039Z",
     "shell.execute_reply": "2024-08-13T16:06:22.835080Z"
    },
    "papermill": {
     "duration": 0.904401,
     "end_time": "2024-08-13T16:06:22.839282",
     "exception": false,
     "start_time": "2024-08-13T16:06:21.934881",
     "status": "completed"
    },
    "tags": []
   },
   "outputs": [],
   "source": [
    "with open(\"/kaggle/input/graph-base-v2-full/data_1000.pickle\", \"rb\") as f:\n",
    "    X, y = pickle.load(f)"
   ]
  },
  {
   "cell_type": "code",
   "execution_count": 4,
   "id": "51d95068",
   "metadata": {
    "execution": {
     "iopub.execute_input": "2024-08-13T16:06:22.853945Z",
     "iopub.status.busy": "2024-08-13T16:06:22.853363Z",
     "iopub.status.idle": "2024-08-13T16:06:22.860652Z",
     "shell.execute_reply": "2024-08-13T16:06:22.859621Z"
    },
    "papermill": {
     "duration": 0.017315,
     "end_time": "2024-08-13T16:06:22.863053",
     "exception": false,
     "start_time": "2024-08-13T16:06:22.845738",
     "status": "completed"
    },
    "tags": []
   },
   "outputs": [],
   "source": [
    "def resize_tensor(tensor, target_length=128, pad_value=0):\n",
    "    if tensor.size(1) > target_length:\n",
    "        # Truncate the tensor if it's longer than the target length\n",
    "        resized_tensor = tensor[:, :target_length]\n",
    "    elif tensor.size(1) < target_length:\n",
    "        # Pad the tensor if it's shorter than the target length\n",
    "        pad_size = target_length - tensor.size(1)\n",
    "        padding = torch.full((tensor.size(0), pad_size), pad_value, dtype=tensor.dtype)\n",
    "        resized_tensor = torch.cat((tensor, padding), dim=1)\n",
    "    else:\n",
    "        # If the tensor is already the target length, return it as is\n",
    "        resized_tensor = tensor\n",
    "\n",
    "    return resized_tensor"
   ]
  },
  {
   "cell_type": "code",
   "execution_count": 5,
   "id": "98389265",
   "metadata": {
    "execution": {
     "iopub.execute_input": "2024-08-13T16:06:22.877364Z",
     "iopub.status.busy": "2024-08-13T16:06:22.876974Z",
     "iopub.status.idle": "2024-08-13T16:06:22.884184Z",
     "shell.execute_reply": "2024-08-13T16:06:22.883126Z"
    },
    "papermill": {
     "duration": 0.01702,
     "end_time": "2024-08-13T16:06:22.886489",
     "exception": false,
     "start_time": "2024-08-13T16:06:22.869469",
     "status": "completed"
    },
    "tags": []
   },
   "outputs": [],
   "source": [
    "def resize_array(arr, target_length=128, pad_value=0):\n",
    "    if arr.shape[1] > target_length:\n",
    "        # Truncate the array if it's longer than the target length\n",
    "        return arr[:, :target_length]\n",
    "    elif arr.shape[1] < target_length:\n",
    "        # Pad the array if it's shorter than the target length\n",
    "        pad_width = target_length - arr.shape[1]\n",
    "        padding = np.full((arr.shape[0], pad_width), pad_value)\n",
    "        return np.hstack((arr, padding))\n",
    "    else:\n",
    "        # If the array is already the target length, return it as is\n",
    "        return arr"
   ]
  },
  {
   "cell_type": "code",
   "execution_count": 6,
   "id": "34c647ef",
   "metadata": {
    "execution": {
     "iopub.execute_input": "2024-08-13T16:06:22.900858Z",
     "iopub.status.busy": "2024-08-13T16:06:22.900466Z",
     "iopub.status.idle": "2024-08-13T16:06:24.518090Z",
     "shell.execute_reply": "2024-08-13T16:06:24.516907Z"
    },
    "papermill": {
     "duration": 1.627951,
     "end_time": "2024-08-13T16:06:24.520884",
     "exception": false,
     "start_time": "2024-08-13T16:06:22.892933",
     "status": "completed"
    },
    "tags": []
   },
   "outputs": [
    {
     "name": "stderr",
     "output_type": "stream",
     "text": [
      "/opt/conda/lib/python3.10/site-packages/dgl/heterograph.py:92: DGLWarning: Recommend creating graphs by `dgl.graph(data)` instead of `dgl.DGLGraph(data)`.\n",
      "  dgl_warning(\n"
     ]
    }
   ],
   "source": [
    "graphs = []\n",
    "for i in range(len(X)):\n",
    "    x = X[i]\n",
    "    newx = np.array([resize_tensor(i) for i in x])\n",
    "    newx = torch.tensor(newx)\n",
    "#     print(newx.shape)\n",
    "    g = dgl.DGLGraph()\n",
    "    num_nodes = newx.shape[0]\n",
    "    g.add_nodes(num_nodes)\n",
    "    g.ndata['embedding'] = newx\n",
    "    src, dst = zip(*y[0])\n",
    "    g.add_edges(src, dst)\n",
    "    graphs.append(g)"
   ]
  },
  {
   "cell_type": "code",
   "execution_count": 7,
   "id": "4c862ac8",
   "metadata": {
    "execution": {
     "iopub.execute_input": "2024-08-13T16:06:24.535698Z",
     "iopub.status.busy": "2024-08-13T16:06:24.535282Z",
     "iopub.status.idle": "2024-08-13T16:06:24.543207Z",
     "shell.execute_reply": "2024-08-13T16:06:24.542180Z"
    },
    "papermill": {
     "duration": 0.018239,
     "end_time": "2024-08-13T16:06:24.545673",
     "exception": false,
     "start_time": "2024-08-13T16:06:24.527434",
     "status": "completed"
    },
    "tags": []
   },
   "outputs": [
    {
     "data": {
      "text/plain": [
       "1500"
      ]
     },
     "execution_count": 7,
     "metadata": {},
     "output_type": "execute_result"
    }
   ],
   "source": [
    "len(graphs)"
   ]
  },
  {
   "cell_type": "code",
   "execution_count": 8,
   "id": "b5feb887",
   "metadata": {
    "execution": {
     "iopub.execute_input": "2024-08-13T16:06:24.560834Z",
     "iopub.status.busy": "2024-08-13T16:06:24.560457Z",
     "iopub.status.idle": "2024-08-13T16:06:24.567505Z",
     "shell.execute_reply": "2024-08-13T16:06:24.566315Z"
    },
    "papermill": {
     "duration": 0.017277,
     "end_time": "2024-08-13T16:06:24.569957",
     "exception": false,
     "start_time": "2024-08-13T16:06:24.552680",
     "status": "completed"
    },
    "tags": []
   },
   "outputs": [
    {
     "data": {
      "text/plain": [
       "Graph(num_nodes=3, num_edges=3,\n",
       "      ndata_schemes={'embedding': Scheme(shape=(1, 128), dtype=torch.int64)}\n",
       "      edata_schemes={})"
      ]
     },
     "execution_count": 8,
     "metadata": {},
     "output_type": "execute_result"
    }
   ],
   "source": [
    "graphs[0]"
   ]
  },
  {
   "cell_type": "code",
   "execution_count": 9,
   "id": "b6399b3c",
   "metadata": {
    "execution": {
     "iopub.execute_input": "2024-08-13T16:06:24.585163Z",
     "iopub.status.busy": "2024-08-13T16:06:24.584793Z",
     "iopub.status.idle": "2024-08-13T16:06:25.449864Z",
     "shell.execute_reply": "2024-08-13T16:06:25.448785Z"
    },
    "papermill": {
     "duration": 0.875989,
     "end_time": "2024-08-13T16:06:25.452687",
     "exception": false,
     "start_time": "2024-08-13T16:06:24.576698",
     "status": "completed"
    },
    "tags": []
   },
   "outputs": [],
   "source": [
    "with open(\"graphs.picke\", \"wb\") as f:\n",
    "    pickle.dump(graphs, f)"
   ]
  },
  {
   "cell_type": "code",
   "execution_count": 10,
   "id": "cb17099d",
   "metadata": {
    "execution": {
     "iopub.execute_input": "2024-08-13T16:06:25.468473Z",
     "iopub.status.busy": "2024-08-13T16:06:25.467713Z",
     "iopub.status.idle": "2024-08-13T16:06:26.206883Z",
     "shell.execute_reply": "2024-08-13T16:06:26.205687Z"
    },
    "papermill": {
     "duration": 0.749861,
     "end_time": "2024-08-13T16:06:26.209523",
     "exception": false,
     "start_time": "2024-08-13T16:06:25.459662",
     "status": "completed"
    },
    "tags": []
   },
   "outputs": [
    {
     "data": {
      "text/plain": [
       "Graph(num_nodes=3, num_edges=3,\n",
       "      ndata_schemes={'embedding': Scheme(shape=(1, 128), dtype=torch.int64)}\n",
       "      edata_schemes={})"
      ]
     },
     "execution_count": 10,
     "metadata": {},
     "output_type": "execute_result"
    }
   ],
   "source": [
    "with open(\"graphs.picke\", \"rb\") as f:\n",
    "    gs = pickle.load(f)\n",
    "gs[0]"
   ]
  },
  {
   "cell_type": "code",
   "execution_count": null,
   "id": "6abfe352",
   "metadata": {
    "papermill": {
     "duration": 0.006762,
     "end_time": "2024-08-13T16:06:26.223261",
     "exception": false,
     "start_time": "2024-08-13T16:06:26.216499",
     "status": "completed"
    },
    "tags": []
   },
   "outputs": [],
   "source": []
  }
 ],
 "metadata": {
  "kaggle": {
   "accelerator": "none",
   "dataSources": [
    {
     "datasetId": 5422544,
     "sourceId": 9011226,
     "sourceType": "datasetVersion"
    },
    {
     "datasetId": 5539207,
     "sourceId": 9167177,
     "sourceType": "datasetVersion"
    }
   ],
   "dockerImageVersionId": 30747,
   "isGpuEnabled": false,
   "isInternetEnabled": true,
   "language": "python",
   "sourceType": "notebook"
  },
  "kernelspec": {
   "display_name": "Python 3",
   "language": "python",
   "name": "python3"
  },
  "language_info": {
   "codemirror_mode": {
    "name": "ipython",
    "version": 3
   },
   "file_extension": ".py",
   "mimetype": "text/x-python",
   "name": "python",
   "nbconvert_exporter": "python",
   "pygments_lexer": "ipython3",
   "version": "3.10.13"
  },
  "papermill": {
   "default_parameters": {},
   "duration": 35.062051,
   "end_time": "2024-08-13T16:06:27.654690",
   "environment_variables": {},
   "exception": null,
   "input_path": "__notebook__.ipynb",
   "output_path": "__notebook__.ipynb",
   "parameters": {},
   "start_time": "2024-08-13T16:05:52.592639",
   "version": "2.5.0"
  }
 },
 "nbformat": 4,
 "nbformat_minor": 5
}
